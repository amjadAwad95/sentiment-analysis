{
 "cells": [
  {
   "metadata": {
    "collapsed": true,
    "ExecuteTime": {
     "end_time": "2025-03-10T19:01:29.053602Z",
     "start_time": "2025-03-10T19:01:29.048638Z"
    }
   },
   "cell_type": "code",
   "source": [
    "import pandas as pd\n",
    "from glob import glob\n",
    "import random\n",
    "import Stemmer\n",
    "import emoji\n",
    "import re\n",
    "import matplotlib.pyplot as plt\n",
    "from abc import ABC, abstractmethod\n",
    "\n",
    "from matplotlib.pyplot import xcorr\n",
    "from num2words import num2words\n",
    "from pandas.core.computation.expressions import evaluate\n",
    "from scipy.stats import logistic\n"
   ],
   "id": "initial_id",
   "outputs": [],
   "execution_count": 558
  },
  {
   "metadata": {
    "ExecuteTime": {
     "end_time": "2025-03-10T19:01:29.088599Z",
     "start_time": "2025-03-10T19:01:29.068150Z"
    }
   },
   "cell_type": "code",
   "source": [
    "appos = {\n",
    "    \"aren't\" : \"are not\",\n",
    "    \"can't\" : \"cannot\",\n",
    "    \"couldn't\" : \"could not\",\n",
    "    \"didn't\" : \"did not\",\n",
    "    \"doesn't\" : \"does not\",\n",
    "    \"don't\" : \"do not\",\n",
    "    \"hadn't\" : \"had not\",\n",
    "    \"hasn't\" : \"has not\",\n",
    "    \"haven't\" : \"have not\",\n",
    "    \"he'd\" : \"he would\",\n",
    "    \"he'll\" : \"he will\",\n",
    "    \"he's\" : \"he is\",\n",
    "    \"how's\" : \"how is\",\n",
    "    \"i'd\" : \"i would\",\n",
    "    \"i'll\" : \"i will\",\n",
    "    \"i'm\" : \"i am\",\n",
    "    \"i've\" : \"i have\",\n",
    "    \"isn't\" : \"is not\",\n",
    "    \"it's\" : \"it is\",\n",
    "    \"let's\" : \"let us\",\n",
    "    \"mustn't\" : \"must not\",\n",
    "    \"shan't\" : \"shall not\",\n",
    "    \"she'd\" : \"she would\",\n",
    "    \"she'll\" : \"she will\",\n",
    "    \"she's\" : \"she is\",\n",
    "    \"shouldn't\" : \"should not\",\n",
    "    \"that's\" : \"that is\",\n",
    "    \"there's\" : \"there is\",\n",
    "    \"they'd\" : \"they would\",\n",
    "    \"they'll\" : \"they will\",\n",
    "    \"they're\" : \"they are\",\n",
    "    \"they've\" : \"they have\",\n",
    "    \"wasn't\" : \"was not\",\n",
    "    \"we'd\" : \"we would\",\n",
    "    \"we'll\" : \"we will\",\n",
    "    \"we're\" : \"we are\",\n",
    "    \"we've\" : \"we have\",\n",
    "    \"weren't\" : \"were not\",\n",
    "    \"what's\" : \"what is\",\n",
    "    \"where's\" : \"where is\",\n",
    "    \"who's\" : \"who is\",\n",
    "    \"won't\" : \"will not\",\n",
    "    \"wouldn't\" : \"would not\",\n",
    "    \"you'd\" : \"you would\",\n",
    "    \"you'll\" : \"you will\",\n",
    "    \"you're\" : \"you are\",\n",
    "    \"you've\" : \"you have\",\n",
    "    \"y'all\" : \"you all\",\n",
    "}\n",
    "\n",
    "stop_words = {\n",
    "    \"i\", \"a\", \"an\", \"the\", \"in\", \"on\", \"at\", \"to\", \n",
    "    \"and\", \"or\", \"but\", \"is\", \"am\", \"are\", \"was\", \n",
    "    \"it\", \"they\", \"this\", \"of\", \"for\", \"with\", \n",
    "    \"as\", \"by\", \"from\", \"that\", \"those\", \"these\",\n",
    "    \n",
    "    \"he\", \"she\", \"we\", \"you\", \"me\", \"him\", \"her\", \n",
    "    \"us\", \"them\", \"my\", \"your\", \"our\", \"their\", \n",
    "    \"do\", \"does\", \"did\", \"have\", \"has\", \"had\", \n",
    "    \"about\", \"above\", \"across\", \"after\", \"against\", \n",
    "    \"along\", \"among\", \"around\", \"behind\", \"below\", \n",
    "    \"beneath\", \"beside\", \"between\", \"beyond\", \n",
    "    \"despite\", \"during\", \"except\", \"into\", \"near\", \n",
    "    \"off\", \"over\", \"past\", \"through\", \"toward\", \n",
    "    \"under\", \"until\", \"up\", \"upon\", \"via\", \"within\", \n",
    "    \"without\", \"although\", \"because\", \"since\", \n",
    "    \"unless\", \"while\", \"where\", \"whether\", \"any\", \n",
    "    \"each\", \"every\", \"either\", \"neither\", \"some\", \n",
    "    \"such\", \"both\", \"few\", \"many\", \"several\", \"all\", \n",
    "    \"other\", \"same\", \"so\", \"too\",\"when\"\n",
    "}\n",
    "\n",
    "negation_words = {\n",
    "    \"not\", \"no\", \"never\", \"none\", \"nobody\", \"nothing\", \"nowhere\",\n",
    "    \"neither\", \"nor\", \"without\", \"cannot\", \"can't\", \"couldn't\",\n",
    "    \"didn't\", \"doesn't\", \"don't\", \"hadn't\", \"hasn't\", \"haven't\",\n",
    "    \"isn't\", \"mightn't\", \"mustn't\", \"needn't\", \"oughtn't\", \"shan't\",\n",
    "    \"shouldn't\", \"wasn't\", \"weren't\", \"won't\", \"wouldn't\", \"rarely\",\n",
    "    \"scarcely\", \"hardly\", \"barely\", \"little\", \"few\", \"lack\", \"lacking\",\n",
    "    \"deny\", \"denies\", \"denied\", \"denying\", \"refuse\", \"refuses\",\n",
    "    \"refused\", \"refusing\", \"reject\", \"rejects\", \"rejected\", \"rejecting\"\n",
    "}\n",
    "\n",
    "positive_words = {\n",
    "    \"good\", \"great\", \"excellent\", \"awesome\", \"amazing\", \"wonderful\",\n",
    "    \"fantastic\", \"perfect\", \"outstanding\", \"superb\", \"brilliant\", \"fabulous\",\n",
    "    \"terrific\", \"incredible\", \"lovely\", \"delightful\", \"joyful\", \"happy\",\n",
    "    \"joy\", \"bliss\", \"ecstatic\", \"pleasure\", \"vibrant\", \"optimistic\",\n",
    "    \"positive\", \"success\", \"victory\", \"triumph\", \"peace\", \"harmony\",\n",
    "    \"gratitude\", \"thankful\", \"blessed\", \"lucky\", \"prosperous\", \"rewarding\",\n",
    "    \"satisfying\", \"refreshing\", \"inspiring\", \"motivating\", \"encouraging\",\n",
    "    \"kind\", \"generous\", \"compassionate\", \"honest\", \"trustworthy\", \"loyal\",\n",
    "    \"creative\", \"innovative\", \"energetic\", \"vital\", \"healthy\", \"strong\",\n",
    "    \"courageous\", \"bold\", \"confident\", \"resilient\", \"graceful\", \"elegant\",\n",
    "    \"charming\", \"friendly\", \"welcoming\", \"supportive\", \"helpful\", \"heavenly\",\n",
    "    \"divine\", \"magical\", \"serene\", \"calm\", \"relaxed\", \"bright\", \"shining\",\n",
    "    \"glowing\", \"sparkling\", \"clean\", \"pure\", \"fresh\", \"new\", \"exciting\",\n",
    "    \"thrilling\", \"adventurous\", \"fun\", \"playful\", \"humorous\", \"lighthearted\",\n",
    "    \"smiling\", \"laughing\", \"cheerful\", \"jubilant\", \"celebratory\", \"festive\",\n",
    "    \"colorful\", \"beautiful\", \"stunning\", \"gorgeous\", \"radiant\", \"dazzling\",\n",
    "    \"admire\", \"cherish\", \"treasure\", \"love\", \"adore\", \"passion\", \"devotion\",\"smilingfacewithhearteyes\"\n",
    "}\n",
    "\n",
    "negative_words = {\n",
    "    \"bad\", \"terrible\", \"awful\", \"horrible\", \"worst\", \"disgusting\",\n",
    "    \"hate\", \"loathe\", \"despise\", \"abhor\", \"ugly\", \"painful\",\n",
    "    \"sad\", \"unhappy\", \"miserable\", \"depressed\", \"gloomy\", \"sorrow\",\n",
    "    \"failure\", \"disaster\", \"mess\", \"broken\", \"damaged\", \"defective\",\n",
    "    \"angry\", \"furious\", \"enraged\", \"annoyed\", \"irritated\", \"frustrated\",\n",
    "    \"evil\", \"wicked\", \"cruel\", \"mean\", \"selfish\", \"greedy\", \"corrupt\",\n",
    "    \"harmful\", \"dangerous\", \"toxic\", \"poisonous\", \"deadly\", \"violent\",\n",
    "    \"stupid\", \"idiotic\", \"foolish\", \"ridiculous\", \"nonsense\", \"absurd\",\n",
    "    \"boring\", \"dull\", \"tedious\", \"monotonous\", \"lame\", \"uninteresting\",\n",
    "    \"weak\", \"frail\", \"feeble\", \"helpless\", \"hopeless\", \"useless\",\n",
    "    \"scary\", \"frightening\", \"terrifying\", \"horrifying\", \"creepy\",\n",
    "    \"lonely\", \"isolated\", \"abandoned\", \"rejected\", \"betrayed\", \"ignored\",\n",
    "    \"stress\", \"anxiety\", \"fear\", \"panic\", \"dread\", \"worry\",\n",
    "    \"disappointment\", \"regret\", \"shame\", \"guilt\", \"embarrassment\", \"humiliation\",\n",
    "    \"problem\", \"issue\", \"mistake\", \"error\", \"flaw\", \"defect\",\n",
    "    \"conflict\", \"fight\", \"argument\", \"quarrel\", \"dispute\", \"war\",\n",
    "    \"polluted\", \"dirty\", \"filthy\", \"rotten\", \"decaying\", \"waste\",\n",
    "    \"fake\", \"fraud\", \"lie\", \"cheat\", \"deceive\", \"manipulate\",\n",
    "    \"sick\", \"ill\", \"pain\", \"ache\", \"suffering\", \"agony\",\n",
    "    \"loss\", \"defeat\", \"collapse\", \"crash\", \"bankrupt\", \"ruin\"\n",
    "}\n",
    "\n",
    "positive_emojis = {\n",
    "    \":grinning_face:\", \":beaming_face_with_smiling_eyes:\", \":grinning_face_with_sweat:\",\n",
    "    \":rolling_on_the_floor_laughing:\", \":face_with_tears_of_joy:\", \":smiling_face:\",\n",
    "    \":smiling_face_with_halo:\", \":smiling_face_with_hearts:\", \":smiling_face_with_heart-eyes:\",\n",
    "    \":star-struck:\", \":kissing_face:\", \":kissing_face_with_closed_eyes:\",\n",
    "    \":kissing_face_with_smiling_eyes:\", \":heart_eyes:\", \":face_blowing_a_kiss:\",\n",
    "    \":hugging_face:\", \":thumbs_up:\", \":clapping_hands:\", \":folded_hands:\", \":handshake:\",\n",
    "    \":sparkles:\", \":fire:\", \":rocket:\", \":party_popper:\", \":confetti_ball:\", \":tada:\",\n",
    "    \":balloon:\", \":red_heart:\", \":orange_heart:\", \":yellow_heart:\", \":green_heart:\",\n",
    "    \":blue_heart:\", \":purple_heart:\", \":sparkling_heart:\", \":heart_with_arrow:\",\n",
    "    \":revolving_hearts:\", \":two_hearts:\", \":growing_heart:\", \":heartpulse:\",\n",
    "    \":star:\", \":glowing_star:\", \":sun:\", \":sun_with_face:\", \":rainbow:\", \":flower_playing_cards:\",\n",
    "    \":cherry_blossom:\", \":rose:\", \":hibiscus:\", \":sunflower:\", \":tulip:\", \":bouquet:\",\n",
    "    \":palm_tree:\", \":christmas_tree:\", \":four_leaf_clover:\", \":shamrock:\", \":maple_leaf:\",\n",
    "    \":fallen_leaf:\", \":herb:\", \":potted_plant:\", \":seedling:\", \":crown:\", \":trophy:\",\n",
    "    \":medal:\", \":musical_notes:\", \":musical_note:\", \":party_face:\", \":dancer:\", \":man_dancing:\",\n",
    "    \":woman_dancing:\", \":man_in_tuxedo:\", \":princess:\", \":superhero:\", \":rocket:\", \":airplane:\",\n",
    "    \":checkered_flag:\", \":trophy:\", \":1st_place_medal:\", \":money_with_wings:\", \":dollar_banknote:\",\n",
    "    \":money_bag:\", \":gem_stone:\", \":ring:\", \":gift:\", \":birthday_cake:\", \":champagne:\",\n",
    "    \":clinking_glasses:\", \":beers:\", \":chocolate_bar:\", \":ice_cream:\", \":doughnut:\",\n",
    "    \":cookie:\", \":cake:\", \":pizza:\", \":hamburger:\", \":taco:\", \":burrito:\", \":sushi:\",\n",
    "    \":ramen:\", \":spaghetti:\", \":wine_glass:\", \":hot_beverage:\", \":teacup_without_handle:\",\n",
    "    \":beer_mug:\", \":clinking_beer_mugs:\", \":champagne_glass:\", \":dog_face:\", \":cat_face:\",\n",
    "    \":panda_face:\", \":koala:\", \":unicorn_face:\", \":dragon_face:\", \":dove:\", \":butterfly:\",\n",
    "    \":rainbow_flag:\", \":peace_symbol:\", \":infinity:\", \":recycling_symbol:\", \":white_flower:\",\n",
    "}\n",
    "\n",
    "negative_emojis = {\n",
    "    \":angry_face:\", \":pouting_face:\", \":face_with_symbols_on_mouth:\", \":smiling_face_with_horns:\",\n",
    "    \":angry_face_with_horns:\", \":skull:\", \":skull_and_crossbones:\", \":crying_face:\",\n",
    "    \":loudly_crying_face:\", \":worried_face:\", \":slightly_frowning_face:\", \":confounded_face:\",\n",
    "    \":disappointed_face:\", \":downcast_face:\", \":face_with_steam_from_nose:\", \":face_screaming_in_fear:\",\n",
    "    \":fearful_face:\", \":anxious_face_with_sweat:\", \":sad_but_relieved_face:\", \":sleepy_face:\",\n",
    "    \":tired_face:\", \":yawning_face:\", \":face_with_medical_mask:\", \":nauseated_face:\",\n",
    "    \":face_vomiting:\", \":sneezing_face:\", \":cold_face:\", \":hot_face:\", \":dizzy_face:\",\n",
    "    \":exploding_head:\", \":face_with_head-bandage:\", \":broken_heart:\", \":black_heart:\",\n",
    "    \":thumbs_down:\", \":middle_finger:\", \":raised_fist:\", \":oncoming_fist:\", \":collision:\",\n",
    "    \":bomb:\", \":fire:\", \":dagger:\", \":pistol:\", \":stop_sign:\", \":no_entry:\", \":prohibited:\",\n",
    "    \":warning:\", \":radioactive:\", \":biohazard:\", \":anger_symbol:\", \":hole:\", \":pile_of_poo:\",\n",
    "    \":zombie:\", \":ghost:\", \":japanese_goblin:\", \":japanese_ogre:\", \":clown_face:\",\n",
    "    \":crying_cat_face:\", \":pouting_cat_face:\", \":see-no-evil_monkey:\", \":hear-no-evil_monkey:\",\n",
    "    \":speak-no-evil_monkey:\", \":footprints:\", \":spider:\", \":spider_web:\", \":snake:\", \":rat:\",\n",
    "    \":scorpion:\", \":mosquito:\", \":microbe:\", \":coffin:\", \":funeral_urn:\", \":stopwatch:\",\n",
    "    \":hourglass_done:\", \":hourglass_not_done:\", \":cigarette:\", \":no_smoking:\", \":cactus:\",\n",
    "    \":wilted_flower:\", \":volcano:\", \":earthquake:\", \":tornado:\", \":cloud_with_lightning_and_rain:\",\n",
    "    \":droplet:\", \":sweat_droplets:\", \":dashing_away:\", \":dizzy:\", \":face_with_thermometer:\",\n",
    "    \":sick:\", \":bandage:\", \":syringe:\", \":pill:\", \":test_tube:\", \":magnifying_glass_tilted_left:\",\n",
    "    \":chains:\", \":handcuffs:\", \":locked:\", \":locked_with_key:\", \":locked_with_pen:\"\n",
    "}"
   ],
   "id": "8d20ede368968f58",
   "outputs": [],
   "execution_count": 559
  },
  {
   "metadata": {},
   "cell_type": "markdown",
   "source": "# Create Load Data Class",
   "id": "823c2303bd2d8e26"
  },
  {
   "metadata": {
    "ExecuteTime": {
     "end_time": "2025-03-10T19:01:29.155809Z",
     "start_time": "2025-03-10T19:01:29.151297Z"
    }
   },
   "cell_type": "code",
   "source": [
    "class DataLoder:\n",
    "    def __init__(self,path:str,labels:list[str],shuffle:bool=True):\n",
    "        self.path = path\n",
    "        self.labels = labels\n",
    "        self.shuffle = shuffle\n",
    "    \n",
    "    def load_data(self)->pd.DataFrame:\n",
    "        data=[]\n",
    "        for label in self.labels:\n",
    "            for filename in glob(f\"{self.path}/{label}/*.txt\"):\n",
    "                with open(filename, \"r\", encoding=\"utf-8\") as file:\n",
    "                    text = file.read()\n",
    "                    data.append({\"text\":text,\"sentiment_label\":label})\n",
    "        if self.shuffle:\n",
    "            random.shuffle(data)\n",
    "        df = pd.DataFrame(data)\n",
    "        return df"
   ],
   "id": "e911f3400e7d0b05",
   "outputs": [],
   "execution_count": 560
  },
  {
   "metadata": {
    "ExecuteTime": {
     "end_time": "2025-03-10T19:01:29.321605Z",
     "start_time": "2025-03-10T19:01:29.212886Z"
    }
   },
   "cell_type": "code",
   "source": [
    "data_load=DataLoder(\"data/training_data\",labels=[\"neg\",\"pos\"],shuffle=True)\n",
    "sentiment_data=data_load.load_data()\n",
    "sentiment_data.head(5)"
   ],
   "id": "66b9d02e91ec3e73",
   "outputs": [
    {
     "data": {
      "text/plain": [
       "                                                text sentiment_label\n",
       "0  silly performances and some huge gaps in logic...             neg\n",
       "1  a hotshot lawyer gets an obviously guilty chil...             neg\n",
       "2  when i first heard about scream in 1996 , i wa...             pos\n",
       "3  at one point during brian de palma's crime epi...             pos\n",
       "4  to watch `battlefield earth' is to wallow in m...             neg"
      ],
      "text/html": [
       "<div>\n",
       "<style scoped>\n",
       "    .dataframe tbody tr th:only-of-type {\n",
       "        vertical-align: middle;\n",
       "    }\n",
       "\n",
       "    .dataframe tbody tr th {\n",
       "        vertical-align: top;\n",
       "    }\n",
       "\n",
       "    .dataframe thead th {\n",
       "        text-align: right;\n",
       "    }\n",
       "</style>\n",
       "<table border=\"1\" class=\"dataframe\">\n",
       "  <thead>\n",
       "    <tr style=\"text-align: right;\">\n",
       "      <th></th>\n",
       "      <th>text</th>\n",
       "      <th>sentiment_label</th>\n",
       "    </tr>\n",
       "  </thead>\n",
       "  <tbody>\n",
       "    <tr>\n",
       "      <th>0</th>\n",
       "      <td>silly performances and some huge gaps in logic...</td>\n",
       "      <td>neg</td>\n",
       "    </tr>\n",
       "    <tr>\n",
       "      <th>1</th>\n",
       "      <td>a hotshot lawyer gets an obviously guilty chil...</td>\n",
       "      <td>neg</td>\n",
       "    </tr>\n",
       "    <tr>\n",
       "      <th>2</th>\n",
       "      <td>when i first heard about scream in 1996 , i wa...</td>\n",
       "      <td>pos</td>\n",
       "    </tr>\n",
       "    <tr>\n",
       "      <th>3</th>\n",
       "      <td>at one point during brian de palma's crime epi...</td>\n",
       "      <td>pos</td>\n",
       "    </tr>\n",
       "    <tr>\n",
       "      <th>4</th>\n",
       "      <td>to watch `battlefield earth' is to wallow in m...</td>\n",
       "      <td>neg</td>\n",
       "    </tr>\n",
       "  </tbody>\n",
       "</table>\n",
       "</div>"
      ]
     },
     "execution_count": 561,
     "metadata": {},
     "output_type": "execute_result"
    }
   ],
   "execution_count": 561
  },
  {
   "metadata": {},
   "cell_type": "markdown",
   "source": "# Create Preprocessing Classes",
   "id": "7fa7d13e891dcba1"
  },
  {
   "metadata": {
    "ExecuteTime": {
     "end_time": "2025-03-10T19:01:29.392912Z",
     "start_time": "2025-03-10T19:01:29.389537Z"
    }
   },
   "cell_type": "code",
   "source": [
    "class FeaturesExtractor(ABC):\n",
    "    @abstractmethod\n",
    "    def transform(self,text:str):\n",
    "        pass\n",
    "\n",
    "class Preprocessing(ABC):\n",
    "    @abstractmethod\n",
    "    def transform(self,text:str)->str:\n",
    "        pass"
   ],
   "id": "adca4d6675d71963",
   "outputs": [],
   "execution_count": 562
  },
  {
   "metadata": {
    "ExecuteTime": {
     "end_time": "2025-03-10T19:01:29.440208Z",
     "start_time": "2025-03-10T19:01:29.427641Z"
    }
   },
   "cell_type": "code",
   "source": [
    "class NegationCount(FeaturesExtractor):\n",
    "    def transform(self,text:str):\n",
    "        text=text.lower()\n",
    "        tokens=text.split()\n",
    "        counter=0\n",
    "        for token in tokens:\n",
    "            if token in negation_words:\n",
    "                counter+=1\n",
    "        return {\n",
    "            \"neg_word_count\":counter\n",
    "        }\n",
    "\n",
    "class IngCount(FeaturesExtractor):\n",
    "    def transform(self,text:str):\n",
    "        text=RemoveSpecialCharacters().transform(text)\n",
    "        tokens=text.split()\n",
    "        counter=0\n",
    "        for token in tokens:\n",
    "            if token.endswith(\"ing\"):\n",
    "                counter+=1\n",
    "        return {\"ing_word_count\":counter}\n",
    "\n",
    "class EdCount(FeaturesExtractor):\n",
    "    def transform(self,text:str):\n",
    "        text=RemoveSpecialCharacters().transform(text)\n",
    "        tokens=text.split()\n",
    "        counter=0\n",
    "        for token in tokens:\n",
    "            if token.endswith(\"ed\"):\n",
    "                counter+=1\n",
    "        return {\"ed_word_count\":counter}\n",
    "\n",
    "class PositiveWordCount(FeaturesExtractor):\n",
    "    def transform(self,text:str):\n",
    "        text=RemoveSpecialCharacters().transform(text)\n",
    "        tokens=text.split()\n",
    "        counter=0\n",
    "        for token in tokens:\n",
    "            if token in positive_words:\n",
    "                counter+=1\n",
    "        return {\"positive_word_count\":counter}\n",
    "            \n",
    "class NegativeWordsCount(FeaturesExtractor):\n",
    "    def transform(self,text:str):\n",
    "        text=RemoveSpecialCharacters().transform(text)\n",
    "        tokens=text.split()\n",
    "        counter=0\n",
    "        for token in tokens:\n",
    "            if token in negative_words:\n",
    "                counter+=1\n",
    "        return {\"negative_word_count\":counter}\n",
    "\n",
    "class PositiveEmojiCount(FeaturesExtractor):\n",
    "    def transform(self,text:str):\n",
    "        text=ConvertEmoji().transform(text)\n",
    "        tokens=text.split()\n",
    "        counter=0\n",
    "        for token in tokens:\n",
    "            if token.startswith(\":\") and token.endswith(\":\") and token in positive_emojis:\n",
    "                counter+=1\n",
    "        return {\"positive_emoji_count\":counter}\n",
    "\n",
    "class NegativeEmojiCount(FeaturesExtractor):\n",
    "    def transform(self,text:str):\n",
    "        text=ConvertEmoji().transform(text)\n",
    "        tokens=text.split()\n",
    "        counter=0\n",
    "        for token in tokens:\n",
    "            if token.startswith(\":\") and token.endswith(\":\") and token in negative_emojis:\n",
    "                counter+=1\n",
    "        return {\"negative_emoji_count\":counter}\n",
    "\n",
    "class WordCount(FeaturesExtractor):\n",
    "    def transform(self,text:str):\n",
    "        text=RemoveSpecialCharacters().transform(text)\n",
    "        tokens=text.split()\n",
    "        return {\"word_count\":len(tokens)}\n",
    "\n",
    "class AverageWordLength(FeaturesExtractor):\n",
    "    def transform(self,text:str):\n",
    "        text=RemoveSpecialCharacters().transform(text)\n",
    "        tokens=text.split()\n",
    "        tokens_size=len(tokens)\n",
    "        word_sum=0\n",
    "        for token in tokens:\n",
    "            word_sum+=len(token)\n",
    "        avg=word_sum/tokens_size\n",
    "        return {\"avg_word_length\":avg}\n",
    "\n",
    "class UniqueWordRatio(FeaturesExtractor):\n",
    "    def transform(self,text:str):\n",
    "        text=RemoveSpecialCharacters().transform(text)\n",
    "        tokens=text.split()\n",
    "        word_size=len(tokens)\n",
    "        unique_word_size=len(set(tokens))\n",
    "        ratio=unique_word_size/word_size if word_size > 0 else 0\n",
    "        return {\"unique_word_ratio\":ratio}\n",
    "\n",
    "class ExclamationCount(FeaturesExtractor):\n",
    "    def transform(self,text:str):\n",
    "        return {\"exclamation_count\":text.count(\"!\")}\n",
    "\n",
    "class QuestionCount(FeaturesExtractor):\n",
    "    def transform(self,text:str):\n",
    "        return {\"question_count\":text.count(\"?\")}\n",
    "\n",
    "class EllipsisCount(FeaturesExtractor):\n",
    "    def transform(self,text:str):\n",
    "        ellipsis_count = len(re.findall(r\"\\.\\.\\.\", text))\n",
    "        return {\"ellipsis_count\":ellipsis_count}\n",
    "    \n",
    "class CapitalizedRatio(FeaturesExtractor):\n",
    "    def transform(self,text:str):\n",
    "        tokens=text.split()\n",
    "        word_size=len(tokens)\n",
    "        capitalized_words = [word for word in tokens if word.isupper() and len(word) > 1]\n",
    "        ratio = len(capitalized_words)/word_size if word_size > 0 else 0\n",
    "        return {\"capitalized_ratio\":ratio}\n",
    "    \n",
    "class RepeatedLettersCount(FeaturesExtractor):\n",
    "    def transform(self,text:str):\n",
    "        text=RemoveSpecialCharacters().transform(text)\n",
    "        repeated_letters = re.findall(r'(\\w)\\1{2,}', text)\n",
    "        return {\"repeated_letters_count\":len(repeated_letters)}"
   ],
   "id": "c5f92778e361ba6f",
   "outputs": [],
   "execution_count": 563
  },
  {
   "metadata": {
    "ExecuteTime": {
     "end_time": "2025-03-10T19:01:29.530822Z",
     "start_time": "2025-03-10T19:01:29.524445Z"
    }
   },
   "cell_type": "code",
   "source": [
    "class RemoveSpecialCharacters(Preprocessing):\n",
    "    def transform(self,text:str)->str:\n",
    "        text=text.lower()\n",
    "        process_text = re.sub(r\"[^a-zA-Z0-9'\\s]\", '', text)\n",
    "        process_text = re.sub(r\"\\s+\", \" \", process_text)\n",
    "        return process_text\n",
    "\n",
    "class ConvertEmoji(Preprocessing):    \n",
    "    def transform(self,text:str)->str:\n",
    "        text=text.lower()\n",
    "        converted_text = emoji.demojize(text)\n",
    "        return converted_text\n",
    "\n",
    "class TextStemmer(Preprocessing):\n",
    "    def transform(self,text:str)->str:\n",
    "        text=text.lower()\n",
    "        tokens=text.split()\n",
    "        stemmer=Stemmer.Stemmer(\"english\")\n",
    "        tokens=[stemmer.stemWord(token) for token in tokens]\n",
    "        return ' '.join(tokens)\n",
    "    \n",
    "class ConvertNumberToWords(Preprocessing):\n",
    "    def transform(self,text:str)->str:\n",
    "        text=text.lower()\n",
    "        def replace_match(match):\n",
    "            return num2words(int(match.group(0)), to='ordinal')\n",
    "        return re.sub(r'-?\\d+',replace_match,text)\n",
    "        \n",
    "class NegationHandling(Preprocessing):\n",
    "    def transform(self,text:str)->str:\n",
    "        text=text.lower()\n",
    "        tokens=text.split()\n",
    "        tokens=[appos[word] if word in appos else word for word in tokens]\n",
    "        return ' '.join(tokens)\n",
    "\n",
    "class RemoveStopWords(Preprocessing):\n",
    "    def transform(self,text:str)->str:\n",
    "        text=text.lower()\n",
    "        tokens=text.split()\n",
    "        tokens=[word for word in tokens if word not in stop_words]\n",
    "        return ' '.join(tokens)"
   ],
   "id": "f390cd9db0d4c34e",
   "outputs": [],
   "execution_count": 564
  },
  {
   "metadata": {
    "ExecuteTime": {
     "end_time": "2025-03-10T19:01:29.537687Z",
     "start_time": "2025-03-10T19:01:29.533841Z"
    }
   },
   "cell_type": "code",
   "source": [
    "class Pipeline(ABC):\n",
    "    @abstractmethod\n",
    "    def transform(self,text:str):\n",
    "        pass"
   ],
   "id": "31ea4b85bc31c5ac",
   "outputs": [],
   "execution_count": 565
  },
  {
   "metadata": {
    "ExecuteTime": {
     "end_time": "2025-03-10T19:01:29.587369Z",
     "start_time": "2025-03-10T19:01:29.583720Z"
    }
   },
   "cell_type": "code",
   "source": [
    "class PreprocessingPipeline(Pipeline):\n",
    "    def __init__(self,pipeline_list:list[Preprocessing]):\n",
    "        self.pipeline_list = pipeline_list\n",
    "    \n",
    "    def transform(self,text:str):\n",
    "        for pipeline in self.pipeline_list:\n",
    "            text = pipeline.transform(text)\n",
    "        \n",
    "        return text"
   ],
   "id": "4ca5b76bca440168",
   "outputs": [],
   "execution_count": 566
  },
  {
   "metadata": {
    "ExecuteTime": {
     "end_time": "2025-03-10T19:01:29.634968Z",
     "start_time": "2025-03-10T19:01:29.631449Z"
    }
   },
   "cell_type": "code",
   "source": [
    "class FeaturesExtractorPipeline(Pipeline):\n",
    "    def __init__(self,pipeline_list:list[FeaturesExtractor]):\n",
    "        self.pipeline_list = pipeline_list\n",
    "    \n",
    "    def transform(self,text:str):\n",
    "        dictionary ={}\n",
    "        for pipeline in self.pipeline_list:\n",
    "            dictionary.update(pipeline.transform(text))\n",
    "        return dictionary            \n",
    "            "
   ],
   "id": "fa6636f36fbd1cec",
   "outputs": [],
   "execution_count": 567
  },
  {
   "metadata": {
    "ExecuteTime": {
     "end_time": "2025-03-10T19:01:29.688250Z",
     "start_time": "2025-03-10T19:01:29.683859Z"
    }
   },
   "cell_type": "code",
   "source": [
    "string=\"100 I love this product! 😍 It's absolutely amazing. But the delivery? was slow... BUT 😠 sooooo\"\n",
    "preprocessing_pipeline=PreprocessingPipeline([\n",
    "    NegationHandling(),\n",
    "    TextStemmer(),\n",
    "    ConvertEmoji(),\n",
    "    RemoveSpecialCharacters(),\n",
    "    ConvertNumberToWords(),\n",
    "    RemoveStopWords()\n",
    "])\n",
    "features_extractor_pipeline=FeaturesExtractorPipeline([\n",
    "    NegationCount(),\n",
    "    IngCount(),\n",
    "    EdCount(),\n",
    "    PositiveWordCount(),\n",
    "    NegativeWordsCount(),\n",
    "    PositiveEmojiCount(),\n",
    "    NegativeEmojiCount(),\n",
    "    WordCount(),\n",
    "    AverageWordLength(),\n",
    "    UniqueWordRatio(),\n",
    "    ExclamationCount(),\n",
    "    QuestionCount(),\n",
    "    EllipsisCount(),\n",
    "    CapitalizedRatio(),\n",
    "    RepeatedLettersCount(),\n",
    "])\n",
    "print(preprocessing_pipeline.transform(string))\n",
    "print(features_extractor_pipeline.transform(string))"
   ],
   "id": "2b056363a2fc80e",
   "outputs": [
    {
     "name": "stdout",
     "output_type": "stream",
     "text": [
      "one hundredth love product smilingfacewithhearteyes absolut amazing delivery slow angryface sooooo\n",
      "{'neg_word_count': 0, 'ing_word_count': 1, 'ed_word_count': 0, 'positive_word_count': 2, 'negative_word_count': 0, 'positive_emoji_count': 1, 'negative_emoji_count': 1, 'word_count': 15, 'avg_word_length': 4.666666666666667, 'unique_word_ratio': 0.9333333333333333, 'exclamation_count': 1, 'question_count': 1, 'ellipsis_count': 1, 'capitalized_ratio': 0.058823529411764705, 'repeated_letters_count': 1}\n"
     ]
    }
   ],
   "execution_count": 568
  },
  {
   "metadata": {
    "ExecuteTime": {
     "end_time": "2025-03-10T19:01:39.058135Z",
     "start_time": "2025-03-10T19:01:29.739044Z"
    }
   },
   "cell_type": "code",
   "source": [
    "def extract_features(text:str):\n",
    "    features=features_extractor_pipeline.transform(text)\n",
    "    return features\n",
    "\n",
    "expanded=sentiment_data[\"text\"].apply(extract_features).apply(pd.Series)\n",
    "sentiment_data=sentiment_data.join(expanded)\n",
    "sentiment_data.head(5)"
   ],
   "id": "9614d28d969ba702",
   "outputs": [
    {
     "data": {
      "text/plain": [
       "                                                text sentiment_label  \\\n",
       "0  silly performances and some huge gaps in logic...             neg   \n",
       "1  a hotshot lawyer gets an obviously guilty chil...             neg   \n",
       "2  when i first heard about scream in 1996 , i wa...             pos   \n",
       "3  at one point during brian de palma's crime epi...             pos   \n",
       "4  to watch `battlefield earth' is to wallow in m...             neg   \n",
       "\n",
       "   neg_word_count  ing_word_count  ed_word_count  positive_word_count  \\\n",
       "0             2.0             6.0            5.0                  1.0   \n",
       "1            18.0            41.0           19.0                  8.0   \n",
       "2            14.0            17.0           16.0                 11.0   \n",
       "3            10.0            20.0            9.0                  8.0   \n",
       "4             8.0            28.0           22.0                  2.0   \n",
       "\n",
       "   negative_word_count  positive_emoji_count  negative_emoji_count  \\\n",
       "0                  0.0                   0.0                   0.0   \n",
       "1                  9.0                   0.0                   0.0   \n",
       "2                  8.0                   0.0                   0.0   \n",
       "3                  5.0                   0.0                   0.0   \n",
       "4                  2.0                   0.0                   0.0   \n",
       "\n",
       "   word_count  avg_word_length  unique_word_ratio  exclamation_count  \\\n",
       "0       290.0         4.503448           0.606897                0.0   \n",
       "1       926.0         4.396328           0.444924                1.0   \n",
       "2       655.0         4.575573           0.490076                0.0   \n",
       "3       603.0         4.655058           0.578773                0.0   \n",
       "4       661.0         4.904690           0.582451                1.0   \n",
       "\n",
       "   question_count  ellipsis_count  capitalized_ratio  repeated_letters_count  \n",
       "0             2.0             0.0                0.0                     0.0  \n",
       "1             4.0             0.0                0.0                     0.0  \n",
       "2             1.0             0.0                0.0                     0.0  \n",
       "3             1.0             0.0                0.0                     0.0  \n",
       "4             5.0             0.0                0.0                     1.0  "
      ],
      "text/html": [
       "<div>\n",
       "<style scoped>\n",
       "    .dataframe tbody tr th:only-of-type {\n",
       "        vertical-align: middle;\n",
       "    }\n",
       "\n",
       "    .dataframe tbody tr th {\n",
       "        vertical-align: top;\n",
       "    }\n",
       "\n",
       "    .dataframe thead th {\n",
       "        text-align: right;\n",
       "    }\n",
       "</style>\n",
       "<table border=\"1\" class=\"dataframe\">\n",
       "  <thead>\n",
       "    <tr style=\"text-align: right;\">\n",
       "      <th></th>\n",
       "      <th>text</th>\n",
       "      <th>sentiment_label</th>\n",
       "      <th>neg_word_count</th>\n",
       "      <th>ing_word_count</th>\n",
       "      <th>ed_word_count</th>\n",
       "      <th>positive_word_count</th>\n",
       "      <th>negative_word_count</th>\n",
       "      <th>positive_emoji_count</th>\n",
       "      <th>negative_emoji_count</th>\n",
       "      <th>word_count</th>\n",
       "      <th>avg_word_length</th>\n",
       "      <th>unique_word_ratio</th>\n",
       "      <th>exclamation_count</th>\n",
       "      <th>question_count</th>\n",
       "      <th>ellipsis_count</th>\n",
       "      <th>capitalized_ratio</th>\n",
       "      <th>repeated_letters_count</th>\n",
       "    </tr>\n",
       "  </thead>\n",
       "  <tbody>\n",
       "    <tr>\n",
       "      <th>0</th>\n",
       "      <td>silly performances and some huge gaps in logic...</td>\n",
       "      <td>neg</td>\n",
       "      <td>2.0</td>\n",
       "      <td>6.0</td>\n",
       "      <td>5.0</td>\n",
       "      <td>1.0</td>\n",
       "      <td>0.0</td>\n",
       "      <td>0.0</td>\n",
       "      <td>0.0</td>\n",
       "      <td>290.0</td>\n",
       "      <td>4.503448</td>\n",
       "      <td>0.606897</td>\n",
       "      <td>0.0</td>\n",
       "      <td>2.0</td>\n",
       "      <td>0.0</td>\n",
       "      <td>0.0</td>\n",
       "      <td>0.0</td>\n",
       "    </tr>\n",
       "    <tr>\n",
       "      <th>1</th>\n",
       "      <td>a hotshot lawyer gets an obviously guilty chil...</td>\n",
       "      <td>neg</td>\n",
       "      <td>18.0</td>\n",
       "      <td>41.0</td>\n",
       "      <td>19.0</td>\n",
       "      <td>8.0</td>\n",
       "      <td>9.0</td>\n",
       "      <td>0.0</td>\n",
       "      <td>0.0</td>\n",
       "      <td>926.0</td>\n",
       "      <td>4.396328</td>\n",
       "      <td>0.444924</td>\n",
       "      <td>1.0</td>\n",
       "      <td>4.0</td>\n",
       "      <td>0.0</td>\n",
       "      <td>0.0</td>\n",
       "      <td>0.0</td>\n",
       "    </tr>\n",
       "    <tr>\n",
       "      <th>2</th>\n",
       "      <td>when i first heard about scream in 1996 , i wa...</td>\n",
       "      <td>pos</td>\n",
       "      <td>14.0</td>\n",
       "      <td>17.0</td>\n",
       "      <td>16.0</td>\n",
       "      <td>11.0</td>\n",
       "      <td>8.0</td>\n",
       "      <td>0.0</td>\n",
       "      <td>0.0</td>\n",
       "      <td>655.0</td>\n",
       "      <td>4.575573</td>\n",
       "      <td>0.490076</td>\n",
       "      <td>0.0</td>\n",
       "      <td>1.0</td>\n",
       "      <td>0.0</td>\n",
       "      <td>0.0</td>\n",
       "      <td>0.0</td>\n",
       "    </tr>\n",
       "    <tr>\n",
       "      <th>3</th>\n",
       "      <td>at one point during brian de palma's crime epi...</td>\n",
       "      <td>pos</td>\n",
       "      <td>10.0</td>\n",
       "      <td>20.0</td>\n",
       "      <td>9.0</td>\n",
       "      <td>8.0</td>\n",
       "      <td>5.0</td>\n",
       "      <td>0.0</td>\n",
       "      <td>0.0</td>\n",
       "      <td>603.0</td>\n",
       "      <td>4.655058</td>\n",
       "      <td>0.578773</td>\n",
       "      <td>0.0</td>\n",
       "      <td>1.0</td>\n",
       "      <td>0.0</td>\n",
       "      <td>0.0</td>\n",
       "      <td>0.0</td>\n",
       "    </tr>\n",
       "    <tr>\n",
       "      <th>4</th>\n",
       "      <td>to watch `battlefield earth' is to wallow in m...</td>\n",
       "      <td>neg</td>\n",
       "      <td>8.0</td>\n",
       "      <td>28.0</td>\n",
       "      <td>22.0</td>\n",
       "      <td>2.0</td>\n",
       "      <td>2.0</td>\n",
       "      <td>0.0</td>\n",
       "      <td>0.0</td>\n",
       "      <td>661.0</td>\n",
       "      <td>4.904690</td>\n",
       "      <td>0.582451</td>\n",
       "      <td>1.0</td>\n",
       "      <td>5.0</td>\n",
       "      <td>0.0</td>\n",
       "      <td>0.0</td>\n",
       "      <td>1.0</td>\n",
       "    </tr>\n",
       "  </tbody>\n",
       "</table>\n",
       "</div>"
      ]
     },
     "execution_count": 569,
     "metadata": {},
     "output_type": "execute_result"
    }
   ],
   "execution_count": 569
  },
  {
   "metadata": {
    "ExecuteTime": {
     "end_time": "2025-03-10T19:01:44.107591Z",
     "start_time": "2025-03-10T19:01:39.139906Z"
    }
   },
   "cell_type": "code",
   "source": [
    "def text_preprocessing(text:str):\n",
    "    preprocessed_text=preprocessing_pipeline.transform(text)\n",
    "    return preprocessed_text\n",
    "\n",
    "sentiment_data[\"text\"]=sentiment_data[\"text\"].apply(text_preprocessing)\n",
    "sentiment_data.head(5)"
   ],
   "id": "72e9151856c9c471",
   "outputs": [
    {
     "data": {
      "text/plain": [
       "                                                text sentiment_label  \\\n",
       "0  silli perform huge gap logic mar otherwis inte...             neg   \n",
       "1  hotshot lawyer get obvious guilti child molest...             neg   \n",
       "2  first heard scream one thousand, nine hundred ...             pos   \n",
       "3  one point dure brian de palma crime epic scarf...             pos   \n",
       "4  watch battlefield earth wallow miseri one most...             neg   \n",
       "\n",
       "   neg_word_count  ing_word_count  ed_word_count  positive_word_count  \\\n",
       "0             2.0             6.0            5.0                  1.0   \n",
       "1            18.0            41.0           19.0                  8.0   \n",
       "2            14.0            17.0           16.0                 11.0   \n",
       "3            10.0            20.0            9.0                  8.0   \n",
       "4             8.0            28.0           22.0                  2.0   \n",
       "\n",
       "   negative_word_count  positive_emoji_count  negative_emoji_count  \\\n",
       "0                  0.0                   0.0                   0.0   \n",
       "1                  9.0                   0.0                   0.0   \n",
       "2                  8.0                   0.0                   0.0   \n",
       "3                  5.0                   0.0                   0.0   \n",
       "4                  2.0                   0.0                   0.0   \n",
       "\n",
       "   word_count  avg_word_length  unique_word_ratio  exclamation_count  \\\n",
       "0       290.0         4.503448           0.606897                0.0   \n",
       "1       926.0         4.396328           0.444924                1.0   \n",
       "2       655.0         4.575573           0.490076                0.0   \n",
       "3       603.0         4.655058           0.578773                0.0   \n",
       "4       661.0         4.904690           0.582451                1.0   \n",
       "\n",
       "   question_count  ellipsis_count  capitalized_ratio  repeated_letters_count  \n",
       "0             2.0             0.0                0.0                     0.0  \n",
       "1             4.0             0.0                0.0                     0.0  \n",
       "2             1.0             0.0                0.0                     0.0  \n",
       "3             1.0             0.0                0.0                     0.0  \n",
       "4             5.0             0.0                0.0                     1.0  "
      ],
      "text/html": [
       "<div>\n",
       "<style scoped>\n",
       "    .dataframe tbody tr th:only-of-type {\n",
       "        vertical-align: middle;\n",
       "    }\n",
       "\n",
       "    .dataframe tbody tr th {\n",
       "        vertical-align: top;\n",
       "    }\n",
       "\n",
       "    .dataframe thead th {\n",
       "        text-align: right;\n",
       "    }\n",
       "</style>\n",
       "<table border=\"1\" class=\"dataframe\">\n",
       "  <thead>\n",
       "    <tr style=\"text-align: right;\">\n",
       "      <th></th>\n",
       "      <th>text</th>\n",
       "      <th>sentiment_label</th>\n",
       "      <th>neg_word_count</th>\n",
       "      <th>ing_word_count</th>\n",
       "      <th>ed_word_count</th>\n",
       "      <th>positive_word_count</th>\n",
       "      <th>negative_word_count</th>\n",
       "      <th>positive_emoji_count</th>\n",
       "      <th>negative_emoji_count</th>\n",
       "      <th>word_count</th>\n",
       "      <th>avg_word_length</th>\n",
       "      <th>unique_word_ratio</th>\n",
       "      <th>exclamation_count</th>\n",
       "      <th>question_count</th>\n",
       "      <th>ellipsis_count</th>\n",
       "      <th>capitalized_ratio</th>\n",
       "      <th>repeated_letters_count</th>\n",
       "    </tr>\n",
       "  </thead>\n",
       "  <tbody>\n",
       "    <tr>\n",
       "      <th>0</th>\n",
       "      <td>silli perform huge gap logic mar otherwis inte...</td>\n",
       "      <td>neg</td>\n",
       "      <td>2.0</td>\n",
       "      <td>6.0</td>\n",
       "      <td>5.0</td>\n",
       "      <td>1.0</td>\n",
       "      <td>0.0</td>\n",
       "      <td>0.0</td>\n",
       "      <td>0.0</td>\n",
       "      <td>290.0</td>\n",
       "      <td>4.503448</td>\n",
       "      <td>0.606897</td>\n",
       "      <td>0.0</td>\n",
       "      <td>2.0</td>\n",
       "      <td>0.0</td>\n",
       "      <td>0.0</td>\n",
       "      <td>0.0</td>\n",
       "    </tr>\n",
       "    <tr>\n",
       "      <th>1</th>\n",
       "      <td>hotshot lawyer get obvious guilti child molest...</td>\n",
       "      <td>neg</td>\n",
       "      <td>18.0</td>\n",
       "      <td>41.0</td>\n",
       "      <td>19.0</td>\n",
       "      <td>8.0</td>\n",
       "      <td>9.0</td>\n",
       "      <td>0.0</td>\n",
       "      <td>0.0</td>\n",
       "      <td>926.0</td>\n",
       "      <td>4.396328</td>\n",
       "      <td>0.444924</td>\n",
       "      <td>1.0</td>\n",
       "      <td>4.0</td>\n",
       "      <td>0.0</td>\n",
       "      <td>0.0</td>\n",
       "      <td>0.0</td>\n",
       "    </tr>\n",
       "    <tr>\n",
       "      <th>2</th>\n",
       "      <td>first heard scream one thousand, nine hundred ...</td>\n",
       "      <td>pos</td>\n",
       "      <td>14.0</td>\n",
       "      <td>17.0</td>\n",
       "      <td>16.0</td>\n",
       "      <td>11.0</td>\n",
       "      <td>8.0</td>\n",
       "      <td>0.0</td>\n",
       "      <td>0.0</td>\n",
       "      <td>655.0</td>\n",
       "      <td>4.575573</td>\n",
       "      <td>0.490076</td>\n",
       "      <td>0.0</td>\n",
       "      <td>1.0</td>\n",
       "      <td>0.0</td>\n",
       "      <td>0.0</td>\n",
       "      <td>0.0</td>\n",
       "    </tr>\n",
       "    <tr>\n",
       "      <th>3</th>\n",
       "      <td>one point dure brian de palma crime epic scarf...</td>\n",
       "      <td>pos</td>\n",
       "      <td>10.0</td>\n",
       "      <td>20.0</td>\n",
       "      <td>9.0</td>\n",
       "      <td>8.0</td>\n",
       "      <td>5.0</td>\n",
       "      <td>0.0</td>\n",
       "      <td>0.0</td>\n",
       "      <td>603.0</td>\n",
       "      <td>4.655058</td>\n",
       "      <td>0.578773</td>\n",
       "      <td>0.0</td>\n",
       "      <td>1.0</td>\n",
       "      <td>0.0</td>\n",
       "      <td>0.0</td>\n",
       "      <td>0.0</td>\n",
       "    </tr>\n",
       "    <tr>\n",
       "      <th>4</th>\n",
       "      <td>watch battlefield earth wallow miseri one most...</td>\n",
       "      <td>neg</td>\n",
       "      <td>8.0</td>\n",
       "      <td>28.0</td>\n",
       "      <td>22.0</td>\n",
       "      <td>2.0</td>\n",
       "      <td>2.0</td>\n",
       "      <td>0.0</td>\n",
       "      <td>0.0</td>\n",
       "      <td>661.0</td>\n",
       "      <td>4.904690</td>\n",
       "      <td>0.582451</td>\n",
       "      <td>1.0</td>\n",
       "      <td>5.0</td>\n",
       "      <td>0.0</td>\n",
       "      <td>0.0</td>\n",
       "      <td>1.0</td>\n",
       "    </tr>\n",
       "  </tbody>\n",
       "</table>\n",
       "</div>"
      ]
     },
     "execution_count": 570,
     "metadata": {},
     "output_type": "execute_result"
    }
   ],
   "execution_count": 570
  },
  {
   "metadata": {},
   "cell_type": "markdown",
   "source": "# Create Visualize Data classes",
   "id": "b31b7d85d262373d"
  },
  {
   "metadata": {
    "ExecuteTime": {
     "end_time": "2025-03-10T19:01:44.163776Z",
     "start_time": "2025-03-10T19:01:44.161299Z"
    }
   },
   "cell_type": "code",
   "source": [
    "class Visualize(ABC):\n",
    "    def visualize(self):\n",
    "        pass"
   ],
   "id": "45ada49b9b7cb89e",
   "outputs": [],
   "execution_count": 571
  },
  {
   "metadata": {
    "ExecuteTime": {
     "end_time": "2025-03-10T19:01:44.231548Z",
     "start_time": "2025-03-10T19:01:44.224780Z"
    }
   },
   "cell_type": "code",
   "source": [
    "class BarVisualize(Visualize):\n",
    "    def __init__(self, x, y, title='Bar Plot', x_label='X Axis', y_label='Y Axis', color='blue', figsize=(8, 6), grid=True, ):\n",
    "        self.x=x\n",
    "        self.y=y\n",
    "        self.title=title\n",
    "        self.x_label=x_label\n",
    "        self.y_label=y_label\n",
    "        self.figsize=figsize\n",
    "        self.grid=grid\n",
    "        self.color=color\n",
    "    \n",
    "    def visualize(self):\n",
    "        if len(self.x)!=len(self.y):\n",
    "             raise ValueError(\"x and y must have the same length\")\n",
    "        fig, ax = plt.subplots(figsize=self.figsize)\n",
    "        ax.bar(self.x, self.y, color=self.color)\n",
    "        \n",
    "        ax.set_title(self.title)\n",
    "        ax.set_xlabel(self.x_label)\n",
    "        ax.set_ylabel(self.y_label)\n",
    "        ax.grid(self.grid)\n",
    "        plt.show()"
   ],
   "id": "29914fa9dc91af61",
   "outputs": [],
   "execution_count": 572
  },
  {
   "metadata": {
    "ExecuteTime": {
     "end_time": "2025-03-10T19:01:44.710208Z",
     "start_time": "2025-03-10T19:01:44.287198Z"
    }
   },
   "cell_type": "code",
   "source": [
    "data_sum=sentiment_data.groupby('sentiment_label').sum()\n",
    "data_sum"
   ],
   "id": "81355cc46f580f37",
   "outputs": [
    {
     "data": {
      "text/plain": [
       "                                                              text  \\\n",
       "sentiment_label                                                      \n",
       "neg              silli perform huge gap logic mar otherwis inte...   \n",
       "pos              first heard scream one thousand, nine hundred ...   \n",
       "\n",
       "                 neg_word_count  ing_word_count  ed_word_count  \\\n",
       "sentiment_label                                                  \n",
       "neg                      9217.0         17517.0        12630.0   \n",
       "pos                      8160.0         18288.0        13391.0   \n",
       "\n",
       "                 positive_word_count  negative_word_count  \\\n",
       "sentiment_label                                             \n",
       "neg                           4047.0               4511.0   \n",
       "pos                           6063.0               2910.0   \n",
       "\n",
       "                 positive_emoji_count  negative_emoji_count  word_count  \\\n",
       "sentiment_label                                                           \n",
       "neg                               0.0                   0.0    516003.0   \n",
       "pos                               0.0                   0.0    558036.0   \n",
       "\n",
       "                 avg_word_length  unique_word_ratio  exclamation_count  \\\n",
       "sentiment_label                                                          \n",
       "neg                  3922.928998         472.676071              888.0   \n",
       "pos                  3761.511554         432.477854              524.0   \n",
       "\n",
       "                 question_count  ellipsis_count  capitalized_ratio  \\\n",
       "sentiment_label                                                      \n",
       "neg                      1865.0             0.0                0.0   \n",
       "pos                      1294.0             0.0                0.0   \n",
       "\n",
       "                 repeated_letters_count  \n",
       "sentiment_label                          \n",
       "neg                               282.0  \n",
       "pos                               185.0  "
      ],
      "text/html": [
       "<div>\n",
       "<style scoped>\n",
       "    .dataframe tbody tr th:only-of-type {\n",
       "        vertical-align: middle;\n",
       "    }\n",
       "\n",
       "    .dataframe tbody tr th {\n",
       "        vertical-align: top;\n",
       "    }\n",
       "\n",
       "    .dataframe thead th {\n",
       "        text-align: right;\n",
       "    }\n",
       "</style>\n",
       "<table border=\"1\" class=\"dataframe\">\n",
       "  <thead>\n",
       "    <tr style=\"text-align: right;\">\n",
       "      <th></th>\n",
       "      <th>text</th>\n",
       "      <th>neg_word_count</th>\n",
       "      <th>ing_word_count</th>\n",
       "      <th>ed_word_count</th>\n",
       "      <th>positive_word_count</th>\n",
       "      <th>negative_word_count</th>\n",
       "      <th>positive_emoji_count</th>\n",
       "      <th>negative_emoji_count</th>\n",
       "      <th>word_count</th>\n",
       "      <th>avg_word_length</th>\n",
       "      <th>unique_word_ratio</th>\n",
       "      <th>exclamation_count</th>\n",
       "      <th>question_count</th>\n",
       "      <th>ellipsis_count</th>\n",
       "      <th>capitalized_ratio</th>\n",
       "      <th>repeated_letters_count</th>\n",
       "    </tr>\n",
       "    <tr>\n",
       "      <th>sentiment_label</th>\n",
       "      <th></th>\n",
       "      <th></th>\n",
       "      <th></th>\n",
       "      <th></th>\n",
       "      <th></th>\n",
       "      <th></th>\n",
       "      <th></th>\n",
       "      <th></th>\n",
       "      <th></th>\n",
       "      <th></th>\n",
       "      <th></th>\n",
       "      <th></th>\n",
       "      <th></th>\n",
       "      <th></th>\n",
       "      <th></th>\n",
       "      <th></th>\n",
       "    </tr>\n",
       "  </thead>\n",
       "  <tbody>\n",
       "    <tr>\n",
       "      <th>neg</th>\n",
       "      <td>silli perform huge gap logic mar otherwis inte...</td>\n",
       "      <td>9217.0</td>\n",
       "      <td>17517.0</td>\n",
       "      <td>12630.0</td>\n",
       "      <td>4047.0</td>\n",
       "      <td>4511.0</td>\n",
       "      <td>0.0</td>\n",
       "      <td>0.0</td>\n",
       "      <td>516003.0</td>\n",
       "      <td>3922.928998</td>\n",
       "      <td>472.676071</td>\n",
       "      <td>888.0</td>\n",
       "      <td>1865.0</td>\n",
       "      <td>0.0</td>\n",
       "      <td>0.0</td>\n",
       "      <td>282.0</td>\n",
       "    </tr>\n",
       "    <tr>\n",
       "      <th>pos</th>\n",
       "      <td>first heard scream one thousand, nine hundred ...</td>\n",
       "      <td>8160.0</td>\n",
       "      <td>18288.0</td>\n",
       "      <td>13391.0</td>\n",
       "      <td>6063.0</td>\n",
       "      <td>2910.0</td>\n",
       "      <td>0.0</td>\n",
       "      <td>0.0</td>\n",
       "      <td>558036.0</td>\n",
       "      <td>3761.511554</td>\n",
       "      <td>432.477854</td>\n",
       "      <td>524.0</td>\n",
       "      <td>1294.0</td>\n",
       "      <td>0.0</td>\n",
       "      <td>0.0</td>\n",
       "      <td>185.0</td>\n",
       "    </tr>\n",
       "  </tbody>\n",
       "</table>\n",
       "</div>"
      ]
     },
     "execution_count": 573,
     "metadata": {},
     "output_type": "execute_result"
    }
   ],
   "execution_count": 573
  },
  {
   "metadata": {
    "ExecuteTime": {
     "end_time": "2025-03-10T19:01:45.885896Z",
     "start_time": "2025-03-10T19:01:44.797552Z"
    }
   },
   "cell_type": "code",
   "source": [
    "visualize=BarVisualize(sentiment_data['sentiment_label'],sentiment_data['neg_word_count'],\n",
    "                       y_label=\"neg word count\",x_label=\"Sentiment Label\",color='skyblue',\n",
    "                       title='neg word count Analysis Summary',grid=False)\n",
    "visualize.visualize()"
   ],
   "id": "230b9fdd20855a8b",
   "outputs": [
    {
     "data": {
      "text/plain": [
       "<Figure size 800x600 with 1 Axes>"
      ],
      "image/png": "[encoded data removed]"
     },
     "metadata": {},
     "output_type": "display_data"
    }
   ],
   "execution_count": 574
  },
  {
   "metadata": {
    "ExecuteTime": {
     "end_time": "2025-03-10T19:01:46.928771Z",
     "start_time": "2025-03-10T19:01:46.131131Z"
    }
   },
   "cell_type": "code",
   "source": [
    "visualize=BarVisualize(sentiment_data['sentiment_label'],sentiment_data['exclamation_count'],\n",
    "                       y_label=\"exclamation count\",x_label=\"Sentiment Label\",color='skyblue',\n",
    "                       title='exclamation count Analysis Summary',grid=False)\n",
    "visualize.visualize()"
   ],
   "id": "a90f0dddd450ae92",
   "outputs": [
    {
     "data": {
      "text/plain": [
       "<Figure size 800x600 with 1 Axes>"
      ],
      "image/png": "[encoded data removed]"
     },
     "metadata": {},
     "output_type": "display_data"
    }
   ],
   "execution_count": 575
  },
  {
   "metadata": {
    "ExecuteTime": {
     "end_time": "2025-03-10T19:01:47.782123Z",
     "start_time": "2025-03-10T19:01:46.949685Z"
    }
   },
   "cell_type": "code",
   "source": [
    "visualize=BarVisualize(sentiment_data['sentiment_label'],sentiment_data['question_count'],\n",
    "                       y_label=\"question count\",x_label=\"Sentiment Label\",color='skyblue',\n",
    "                       title='question count Analysis Summary',grid=False)\n",
    "visualize.visualize()"
   ],
   "id": "419951ea69783f3c",
   "outputs": [
    {
     "data": {
      "text/plain": [
       "<Figure size 800x600 with 1 Axes>"
      ],
      "image/png": "[encoded data removed]"
     },
     "metadata": {},
     "output_type": "display_data"
    }
   ],
   "execution_count": 576
  },
  {
   "metadata": {
    "ExecuteTime": {
     "end_time": "2025-03-10T19:01:48.667163Z",
     "start_time": "2025-03-10T19:01:47.836187Z"
    }
   },
   "cell_type": "code",
   "source": [
    "visualize=BarVisualize(sentiment_data['sentiment_label'],sentiment_data['capitalized_ratio'],\n",
    "                       y_label=\"capitalized ratio\",x_label=\"Sentiment Label\",color='skyblue',\n",
    "                       title='capitalized ratio Analysis Summary',grid=False)\n",
    "visualize.visualize()"
   ],
   "id": "f82a03916b0cfff",
   "outputs": [
    {
     "data": {
      "text/plain": [
       "<Figure size 800x600 with 1 Axes>"
      ],
      "image/png": "[encoded data removed]"
     },
     "metadata": {},
     "output_type": "display_data"
    }
   ],
   "execution_count": 577
  },
  {
   "metadata": {},
   "cell_type": "markdown",
   "source": "# Feature Representation and Engineering",
   "id": "d5443e6bed93ad10"
  },
  {
   "metadata": {
    "ExecuteTime": {
     "end_time": "2025-03-10T19:01:48.719245Z",
     "start_time": "2025-03-10T19:01:48.715864Z"
    }
   },
   "cell_type": "code",
   "source": "from sklearn.feature_extraction.text import TfidfVectorizer",
   "id": "92f179d53548232c",
   "outputs": [],
   "execution_count": 578
  },
  {
   "metadata": {
    "ExecuteTime": {
     "end_time": "2025-03-10T19:01:48.770872Z",
     "start_time": "2025-03-10T19:01:48.767912Z"
    }
   },
   "cell_type": "code",
   "source": [
    "class Vectorizer(ABC):\n",
    "    def transform(self):\n",
    "        pass"
   ],
   "id": "bd3a5b555a832a1b",
   "outputs": [],
   "execution_count": 579
  },
  {
   "metadata": {
    "ExecuteTime": {
     "end_time": "2025-03-10T19:01:48.823858Z",
     "start_time": "2025-03-10T19:01:48.819668Z"
    }
   },
   "cell_type": "code",
   "source": [
    "class TFIDFVectorizer(Vectorizer):\n",
    "    def __init__(self,dataframe:pd.DataFrame,prams):\n",
    "        self.dataframe=dataframe\n",
    "        self.prams=prams\n",
    "        self.vectorizer=TfidfVectorizer(**prams)\n",
    "    \n",
    "    def transform(self):     \n",
    "        tfidf_matrix = self.vectorizer.fit_transform(self.dataframe)\n",
    "        return tfidf_matrix"
   ],
   "id": "a94684c7e939947d",
   "outputs": [],
   "execution_count": 580
  },
  {
   "metadata": {
    "ExecuteTime": {
     "end_time": "2025-03-10T19:01:54.356983Z",
     "start_time": "2025-03-10T19:01:52.307116Z"
    }
   },
   "cell_type": "code",
   "source": [
    "vectorizer=TFIDFVectorizer(sentiment_data[\"text\"],{\"max_df\":0.5,\"min_df\":2,\"ngram_range\":(1, 2),    \n",
    "                            \"max_features\":8000,\"use_idf\":True,\"smooth_idf\":True})\n",
    "\n",
    "tfidf_matrix=vectorizer.transform()\n",
    "\n",
    "tfidf_df = pd.DataFrame(tfidf_matrix.toarray(), columns=vectorizer.vectorizer.get_feature_names_out())\n",
    "\n",
    "sentiment_data = pd.concat([sentiment_data, tfidf_df], axis=1)"
   ],
   "id": "39658ee57b5f79c9",
   "outputs": [],
   "execution_count": 581
  },
  {
   "metadata": {
    "ExecuteTime": {
     "end_time": "2025-03-10T19:02:13.322853Z",
     "start_time": "2025-03-10T19:02:13.314666Z"
    }
   },
   "cell_type": "code",
   "source": [
    "import numpy as np\n",
    "\n",
    "sentiment_data[\"sentiment_label\"] = np.where(sentiment_data[\"sentiment_label\"] == \"pos\", 1, 0)"
   ],
   "id": "3106d8d295d8837d",
   "outputs": [],
   "execution_count": 582
  },
  {
   "metadata": {
    "ExecuteTime": {
     "end_time": "2025-03-10T19:02:15.085293Z",
     "start_time": "2025-03-10T19:02:15.044680Z"
    }
   },
   "cell_type": "code",
   "source": [
    "sentiment_data=sentiment_data.drop(\n",
    "    [\"text\",\"capitalized_ratio\",\"ellipsis_count\",\"ing_word_count\",\"ed_word_count\",\"positive_emoji_count\",\n",
    "     \"negative_emoji_count\"], axis=1)"
   ],
   "id": "e5ae232c68117233",
   "outputs": [],
   "execution_count": 583
  },
  {
   "metadata": {},
   "cell_type": "markdown",
   "source": "### Model Training & Evaluation",
   "id": "e437c9aed5f3df1a"
  },
  {
   "metadata": {
    "ExecuteTime": {
     "end_time": "2025-03-10T19:02:16.856260Z",
     "start_time": "2025-03-10T19:02:16.852626Z"
    }
   },
   "cell_type": "code",
   "source": [
    "from sklearn.naive_bayes import GaussianNB\n",
    "from sklearn.svm import SVC\n",
    "from sklearn.metrics import accuracy_score, precision_score, recall_score, f1_score\n",
    "from sklearn.model_selection import cross_validate\n",
    "from sklearn.model_selection import cross_val_score\n",
    "from sklearn.model_selection import KFold\n",
    "from sklearn.ensemble import RandomForestClassifier\n",
    "from sklearn.metrics import classification_report\n",
    "from sklearn.linear_model import LogisticRegression"
   ],
   "id": "83bd395cfee2af98",
   "outputs": [],
   "execution_count": 584
  },
  {
   "metadata": {
    "ExecuteTime": {
     "end_time": "2025-03-10T19:02:41.380948Z",
     "start_time": "2025-03-10T19:02:41.377439Z"
    }
   },
   "cell_type": "code",
   "source": [
    "class ModelTrain(ABC):\n",
    "    def train(self):\n",
    "        pass\n",
    "\n",
    "class ModelEvaluate(ABC):\n",
    "    def evaluate(self,model):\n",
    "        pass"
   ],
   "id": "bea3f73c00cb0f57",
   "outputs": [],
   "execution_count": 586
  },
  {
   "metadata": {
    "ExecuteTime": {
     "end_time": "2025-03-10T19:02:44.762535Z",
     "start_time": "2025-03-10T19:02:44.755981Z"
    }
   },
   "cell_type": "code",
   "source": [
    "class GaussianNBTrain(ModelTrain):\n",
    "    def __init__(self,X_train,y_train,priors=None,var_smoothing=1e-9):\n",
    "        self.X_train=X_train\n",
    "        self.y_train=y_train\n",
    "        self.priors=priors\n",
    "        self.var_smoothing=var_smoothing\n",
    "        self.model=None\n",
    "        \n",
    "    def train(self):\n",
    "        gnb = GaussianNB(priors=self.priors,var_smoothing=self.var_smoothing)\n",
    "        gnb.fit(self.X_train,self.y_train)\n",
    "        self.model=gnb\n",
    "        return gnb\n",
    "\n",
    "class SVCTrain(ModelTrain):\n",
    "    def __init__(self,X_train,y_train,params):\n",
    "        self.X_train=X_train\n",
    "        self.y_train=y_train\n",
    "        self.params=params\n",
    "        self.model=None\n",
    "    \n",
    "    def train(self):\n",
    "        svc=SVC(**self.params)\n",
    "        svc.fit(self.X_train,self.y_train)\n",
    "        self.model=svc\n",
    "        return svc\n",
    "\n",
    "class RandomForestTrain(ModelTrain):\n",
    "    def __init__(self,X_train,y_train,params):\n",
    "        self.X_train=X_train\n",
    "        self.y_train=y_train\n",
    "        self.params=params\n",
    "        self.model=None\n",
    "    \n",
    "    def train(self):\n",
    "        rf = RandomForestClassifier(**self.params)\n",
    "        rf.fit(self.X_train,self.y_train)\n",
    "        self.model=rf\n",
    "        return rf\n",
    "\n",
    "class LogisticRegressionTrain(ModelTrain):\n",
    "    def __init__(self,X_train,y_train,params):\n",
    "        self.X_train=X_train\n",
    "        self.y_train=y_train\n",
    "        self.params=params\n",
    "        self.model=None\n",
    "    \n",
    "    def train(self):\n",
    "        logreg = LogisticRegression(**self.params)\n",
    "        logreg.fit(self.X_train,self.y_train)\n",
    "        self.model=logreg\n",
    "        return logreg"
   ],
   "id": "88dacbb8e581f4f8",
   "outputs": [],
   "execution_count": 587
  },
  {
   "metadata": {
    "ExecuteTime": {
     "end_time": "2025-03-10T19:02:48.381728Z",
     "start_time": "2025-03-10T19:02:48.372748Z"
    }
   },
   "cell_type": "code",
   "source": [
    "class AcuracyEvaluate(ModelEvaluate):\n",
    "    def __init__(self,X_test,y_test):\n",
    "        self.X_test=X_test\n",
    "        self.y_test=y_test\n",
    "    \n",
    "    def evaluate(self,model):\n",
    "        y_pred = model.predict(X_test)\n",
    "        accuracy = accuracy_score(y_test, y_pred)\n",
    "        return accuracy\n",
    "\n",
    "class PrecisionEvaluate(ModelEvaluate):\n",
    "    def __init__(self,X_test,y_test):\n",
    "        self.X_test=X_test\n",
    "        self.y_test=y_test\n",
    "    \n",
    "    def evaluate(self,model):\n",
    "        y_pred = model.predict(self.X_test)\n",
    "        precision = precision_score(y_test, y_pred)\n",
    "        return precision\n",
    "\n",
    "class RecallEvaluate(ModelEvaluate):\n",
    "    def __init__(self,X_test,y_test):\n",
    "        self.X_test=X_test\n",
    "        self.y_test=y_test\n",
    "    \n",
    "    def evaluate(self,model):\n",
    "        y_pred = model.predict(self.X_test)\n",
    "        recall = recall_score(y_test, y_pred)\n",
    "        return recall\n",
    "\n",
    "class F1Evaluate(ModelEvaluate):\n",
    "    def __init__(self,X_test,y_test,default=\"binary\"):\n",
    "        self.X_test=X_test\n",
    "        self.y_test=y_test\n",
    "        self.default=default\n",
    "    \n",
    "    def evaluate(self,model):\n",
    "        y_pred = model.predict(self.X_test)\n",
    "        f1 = f1_score(y_test, y_pred, average=self.default)\n",
    "        return f1\n",
    "\n",
    "class KFoldEvaluate(ModelEvaluate):\n",
    "    def __init__(self,X_train,y_train,scoring,params):\n",
    "        self.X_train=X_train\n",
    "        self.y_train=y_train\n",
    "        self.scoring=scoring\n",
    "        self.params=params\n",
    "    \n",
    "    def evaluate(self,model):\n",
    "        k_fold = KFold(**self.params)\n",
    "        cv_scores = cross_validate(model, self.X_train, self.y_train, cv=k_fold, scoring=self.scoring,return_train_score=True)\n",
    "        return cv_scores\n",
    "\n",
    "class CrossValidationEvaluate(ModelEvaluate):\n",
    "    def __init__(self,X_train,y_train,scoring,params):\n",
    "        self.X_train=X_train\n",
    "        self.y_train=y_train\n",
    "        self.scoring=scoring\n",
    "        self.params=params\n",
    "    \n",
    "    def evaluate(self,model):\n",
    "        k_fold = KFold(**self.params)\n",
    "        cv_scores = cross_val_score(model, self.X_train, self.y_train, cv=k_fold, scoring=self.scoring)\n",
    "        return cv_scores\n",
    "        \n",
    "class CompareAccuracyEvaluate(ModelEvaluate):\n",
    "    def __init__(self,X_train,y_train,X_test,y_test):\n",
    "        self.X_train=X_train\n",
    "        self.y_train=y_train\n",
    "        self.X_test=X_test\n",
    "        self.y_test=y_test\n",
    "    \n",
    "    def evaluate(self,model):\n",
    "        train_evaluate = AcuracyEvaluate(self.X_train,self.y_train)\n",
    "        test_evaluate = AcuracyEvaluate(self.X_test,self.y_test)\n",
    "        \n",
    "        train_accuracy = train_evaluate.evaluate(model)\n",
    "        test_accuracy = test_evaluate.evaluate(model)\n",
    "        \n",
    "        if train_accuracy > test_accuracy:\n",
    "            return 1\n",
    "        elif train_accuracy < test_accuracy:\n",
    "            return -1\n",
    "        return 0\n",
    "\n",
    "class ClassificationReportEvaluate(ModelEvaluate):\n",
    "    def __init__(self,X_test,y_test):\n",
    "        self.X_test=X_test\n",
    "        self.y_test=y_test\n",
    "    \n",
    "    def evaluate(self,model):\n",
    "        y_pred = model.predict(self.X_test)\n",
    "        report = classification_report(self.y_test, y_pred)\n",
    "        return report"
   ],
   "id": "ed5549a6ab658001",
   "outputs": [],
   "execution_count": 588
  },
  {
   "metadata": {
    "ExecuteTime": {
     "end_time": "2025-03-10T19:02:49.962525Z",
     "start_time": "2025-03-10T19:02:49.958363Z"
    }
   },
   "cell_type": "code",
   "source": [
    "class Printer(ABC):\n",
    "    @abstractmethod\n",
    "    def print(self):\n",
    "        pass"
   ],
   "id": "97fe2a1aaf9bb38c",
   "outputs": [],
   "execution_count": 589
  },
  {
   "metadata": {
    "ExecuteTime": {
     "end_time": "2025-03-10T19:02:53.095888Z",
     "start_time": "2025-03-10T19:02:53.089492Z"
    }
   },
   "cell_type": "code",
   "source": [
    "class EvaluatePrinter(Printer):\n",
    "    def __init__(self,model,X_train,y_train,X_test,y_test):\n",
    "        self.X_train=X_train\n",
    "        self.y_train=y_train\n",
    "        self.X_test=X_test\n",
    "        self.y_test=y_test\n",
    "        self.model=model\n",
    "\n",
    "    def print(self):\n",
    "        print(f\"accuracy = {accuracy_evaluate.evaluate(self.model)}\")\n",
    "        print(f\"precision = {precision_evaluate.evaluate(self.model)}\")\n",
    "        print(f\"recall = {recall_evaluate.evaluate(self.model)}\")\n",
    "        print(f\"f1 = {f1_evaluate.evaluate(self.model)}\")\n",
    "        \n",
    "        compare_evaluate=CompareAccuracyEvaluate(self.X_train,self.y_train,self.X_test,self.y_test)\n",
    "        compare_accuracy=compare_evaluate.evaluate(self.model)\n",
    "        print(\"Compare Accuracy Evaluate:\")\n",
    "        if compare_accuracy == 1:\n",
    "            print(\"Train Accuracy > Test Accuracy\")\n",
    "        elif compare_accuracy == -1:\n",
    "            print(\"Train Accuracy < Test Accuracy\")\n",
    "        else:\n",
    "            print(\"Train Accuracy == Test Accuracy\")\n",
    "        \n",
    "        report_evaluate=ClassificationReportEvaluate(self.X_test,self.y_test)\n",
    "        report=report_evaluate.evaluate(self.model)\n",
    "        print(\"Classification Report\")\n",
    "        print(report)\n",
    "\n",
    "class EvaluatePrinterScale(Printer):\n",
    "    def __init__(self,model,X_train,y_train,X_test,y_test):\n",
    "        self.X_train=X_train\n",
    "        self.y_train=y_train\n",
    "        self.X_test=X_test\n",
    "        self.y_test=y_test\n",
    "        self.model=model\n",
    "\n",
    "    def print(self):\n",
    "        print(f\"accuracy = {accuracy_evaluate_scale.evaluate(self.model)}\")\n",
    "        print(f\"precision = {precision_evaluate_scale.evaluate(self.model)}\")\n",
    "        print(f\"recall = {recall_evaluate_scale.evaluate(self.model)}\")\n",
    "        print(f\"f1 = {f1_evaluate_scale.evaluate(self.model)}\")\n",
    "        \n",
    "        compare_evaluate=CompareAccuracyEvaluate(self.X_train,self.y_train,self.X_test,self.y_test)\n",
    "        compare_accuracy=compare_evaluate.evaluate(self.model)\n",
    "        print(\"Compare Accuracy Evaluate:\")\n",
    "        if compare_accuracy == 1:\n",
    "            print(\"Train Accuracy > Test Accuracy\")\n",
    "        elif compare_accuracy == -1:\n",
    "            print(\"Train Accuracy < Test Accuracy\")\n",
    "        else:\n",
    "            print(\"Train Accuracy == Test Accuracy\")\n",
    "        \n",
    "        report_evaluate=ClassificationReportEvaluate(self.X_test,self.y_test)\n",
    "        report=report_evaluate.evaluate(self.model)\n",
    "        print(\"Classification Report\")\n",
    "        print(report)"
   ],
   "id": "48753128b17a042c",
   "outputs": [],
   "execution_count": 590
  },
  {
   "metadata": {
    "ExecuteTime": {
     "end_time": "2025-03-10T19:02:55.101181Z",
     "start_time": "2025-03-10T19:02:55.096164Z"
    }
   },
   "cell_type": "code",
   "source": [
    "class TrainingValidationPlot(Visualize):\n",
    "    def __init__(self, cv_results):\n",
    "        self.cv_results = cv_results\n",
    "        \n",
    "    def visualize(self):\n",
    "        train_acc = self.cv_results['train_accuracy']\n",
    "        val_acc = self.cv_results['test_accuracy']\n",
    "        train_loss = -self.cv_results['train_neg_log_loss']\n",
    "        val_loss = -self.cv_results['test_neg_log_loss']\n",
    "\n",
    "        folds = np.arange(1, len(train_acc) + 1)\n",
    "\n",
    "        fig, (ax1, ax2) = plt.subplots(1, 2, figsize=(14, 5))\n",
    "\n",
    "        ax1.plot(folds, train_acc, \n",
    "                 marker='o', linestyle='--', color='blue', label='Training Accuracy')\n",
    "        ax1.plot(folds, val_acc, \n",
    "                 marker='s', linestyle='-', color='orange', label='Validation Accuracy')\n",
    "        ax1.set_xlabel('Fold Number')\n",
    "        ax1.set_ylabel('Accuracy')\n",
    "        ax1.set_title('Accuracy Comparison Across Folds')\n",
    "        ax1.legend()\n",
    "        ax1.grid(True, linestyle='--', alpha=0.7)\n",
    "\n",
    "        ax2.plot(folds, train_loss, \n",
    "                 marker='o', linestyle='--', color='blue', label='Training Loss')\n",
    "        ax2.plot(folds, val_loss, \n",
    "                 marker='s', linestyle='-', color='orange', label='Validation Loss')\n",
    "        ax2.set_xlabel('Fold Number')\n",
    "        ax2.set_ylabel('Loss')\n",
    "        ax2.set_title('Log Loss Comparison Across Folds')\n",
    "        ax2.legend()\n",
    "        ax2.grid(True, linestyle='--', alpha=0.7)\n",
    "\n",
    "        plt.tight_layout()\n",
    "        plt.show()"
   ],
   "id": "7ac9ff62fed7400f",
   "outputs": [],
   "execution_count": 591
  },
  {
   "metadata": {
    "ExecuteTime": {
     "end_time": "2025-03-10T19:02:57.212756Z",
     "start_time": "2025-03-10T19:02:57.170596Z"
    }
   },
   "cell_type": "code",
   "source": [
    "from sklearn.model_selection import train_test_split\n",
    "\n",
    "X_train, X_test= train_test_split(sentiment_data,test_size=0.2,random_state=42)"
   ],
   "id": "6e4f9e76578f3408",
   "outputs": [],
   "execution_count": 592
  },
  {
   "metadata": {
    "ExecuteTime": {
     "end_time": "2025-03-10T19:02:58.875815Z",
     "start_time": "2025-03-10T19:02:58.841160Z"
    }
   },
   "cell_type": "code",
   "source": [
    "y_train=X_train[\"sentiment_label\"]\n",
    "y_test=X_test[\"sentiment_label\"]\n",
    "X_train=X_train.drop(\"sentiment_label\",axis=1)\n",
    "X_test=X_test.drop(\"sentiment_label\",axis=1)"
   ],
   "id": "e746d2d599ab357b",
   "outputs": [],
   "execution_count": 593
  },
  {
   "metadata": {
    "ExecuteTime": {
     "end_time": "2025-03-10T19:03:00.352606Z",
     "start_time": "2025-03-10T19:03:00.150316Z"
    }
   },
   "cell_type": "code",
   "source": [
    "from sklearn.preprocessing import StandardScaler\n",
    "scaler=StandardScaler()\n",
    "X_train_scaler=scaler.fit_transform(X_train)\n",
    "X_test_scaler=scaler.transform(X_test)"
   ],
   "id": "367dad25cd87e71d",
   "outputs": [],
   "execution_count": 594
  },
  {
   "metadata": {
    "ExecuteTime": {
     "end_time": "2025-03-10T19:03:01.645761Z",
     "start_time": "2025-03-10T19:03:01.641760Z"
    }
   },
   "cell_type": "code",
   "source": [
    "accuracy_evaluate=AcuracyEvaluate(X_test,y_test)\n",
    "precision_evaluate=PrecisionEvaluate(X_test,y_test)\n",
    "recall_evaluate=RecallEvaluate(X_test,y_test)\n",
    "f1_evaluate=F1Evaluate(X_test,y_test)\n",
    "k_fold=KFoldEvaluate(X_train,y_train,scoring=[\"accuracy\", \"neg_log_loss\"],params={\"n_splits\" :10,\n",
    "                        \"shuffle\" : True, \"random_state\" : 42})\n",
    "\n",
    "\n",
    "cross_validation_evaluate = CrossValidationEvaluate(X_train,y_train,scoring=\"accuracy\",\n",
    "                                                    params={\"n_splits\" :10,\"shuffle\" : True, \"random_state\" : 42})\n"
   ],
   "id": "1b08a5036a50b0f8",
   "outputs": [],
   "execution_count": 595
  },
  {
   "metadata": {
    "ExecuteTime": {
     "end_time": "2025-03-10T19:03:03.317075Z",
     "start_time": "2025-03-10T19:03:03.309554Z"
    }
   },
   "cell_type": "code",
   "source": [
    "accuracy_evaluate_scale=AcuracyEvaluate(X_test_scaler,y_test)\n",
    "precision_evaluate_scale=PrecisionEvaluate(X_test_scaler,y_test)\n",
    "recall_evaluate_scale=RecallEvaluate(X_test_scaler,y_test)\n",
    "f1_evaluate_scale=F1Evaluate(X_test_scaler,y_test)\n",
    "\n",
    "k_fold_scale=KFoldEvaluate(X_train_scaler,y_train,scoring=[\"accuracy\", \"neg_log_loss\"],params={\"n_splits\" :10,\n",
    "                        \"shuffle\" : True, \"random_state\" : 42})\n",
    "\n",
    "cross_validation_evaluate_scale = CrossValidationEvaluate(X_train_scaler,y_train,scoring=\"accuracy\",\n",
    "                                                    params={\"n_splits\" :10,\"shuffle\" : True, \"random_state\" : 42})"
   ],
   "id": "e8e38484e6cb107e",
   "outputs": [],
   "execution_count": 596
  },
  {
   "metadata": {
    "ExecuteTime": {
     "end_time": "2025-03-10T19:03:07.828347Z",
     "start_time": "2025-03-10T19:03:05.046119Z"
    }
   },
   "cell_type": "code",
   "source": [
    "gnb=GaussianNBTrain(X_train,y_train)\n",
    "gnb_model=gnb.train()\n",
    "\n",
    "cross_validation=cross_validation_evaluate.evaluate(gnb_model)\n",
    "print(f\"Cross-Validation Accuracy Scores: {cross_validation}\")\n",
    "print(f\"Mean Accuracy Scores: {cross_validation.mean()}\")"
   ],
   "id": "480da14bd13983e3",
   "outputs": [
    {
     "name": "stdout",
     "output_type": "stream",
     "text": [
      "Cross-Validation Accuracy Scores: [0.73684211 0.7593985  0.7593985  0.77272727 0.70454545 0.73484848\n",
      " 0.71969697 0.75757576 0.71212121 0.68181818]\n",
      "Mean Accuracy Scores: 0.7338972431077695\n"
     ]
    }
   ],
   "execution_count": 597
  },
  {
   "metadata": {
    "ExecuteTime": {
     "end_time": "2025-03-10T19:03:23.351253Z",
     "start_time": "2025-03-10T19:03:16.820381Z"
    }
   },
   "cell_type": "code",
   "source": [
    "cv_scores = k_fold.evaluate(gnb_model)\n",
    "TrainingValidationPlot(cv_scores).visualize()"
   ],
   "id": "8c89d3a5bfc197eb",
   "outputs": [
    {
     "data": {
      "text/plain": [
       "<Figure size 1400x500 with 2 Axes>"
      ],
      "image/png": "[encoded data removed]"
     },
     "metadata": {},
     "output_type": "display_data"
    }
   ],
   "execution_count": 598
  },
  {
   "metadata": {
    "ExecuteTime": {
     "end_time": "2025-03-10T19:03:32.543767Z",
     "start_time": "2025-03-10T19:03:32.121535Z"
    }
   },
   "cell_type": "code",
   "source": [
    "evaluate_printer=EvaluatePrinter(gnb_model,X_train,y_train,X_test,y_test)\n",
    "evaluate_printer.print()"
   ],
   "id": "18d5b1f500b4d967",
   "outputs": [
    {
     "name": "stdout",
     "output_type": "stream",
     "text": [
      "accuracy = 0.6797583081570997\n",
      "precision = 0.6742857142857143\n",
      "recall = 0.7065868263473054\n",
      "f1 = 0.6900584795321637\n",
      "Compare Accuracy Evaluate:\n",
      "Train Accuracy == Test Accuracy\n",
      "Classification Report\n",
      "              precision    recall  f1-score   support\n",
      "\n",
      "           0       0.69      0.65      0.67       164\n",
      "           1       0.67      0.71      0.69       167\n",
      "\n",
      "    accuracy                           0.68       331\n",
      "   macro avg       0.68      0.68      0.68       331\n",
      "weighted avg       0.68      0.68      0.68       331\n",
      "\n"
     ]
    }
   ],
   "execution_count": 599
  },
  {
   "metadata": {
    "ExecuteTime": {
     "end_time": "2025-03-10T19:04:37.690615Z",
     "start_time": "2025-03-10T19:04:17.509515Z"
    }
   },
   "cell_type": "code",
   "source": [
    "random_forest=RandomForestTrain(X_train,y_train,params={'criterion': 'gini','max_depth': 20,'max_features': 'sqrt',\n",
    "                                                    'min_samples_leaf': 1,'min_samples_split': 2,'n_estimators': 200})\n",
    "random_forest_model=random_forest.train()\n",
    "\n",
    "cross_validation=cross_validation_evaluate.evaluate(random_forest_model)\n",
    "print(f\"Cross-Validation Accuracy Scores: {cross_validation}\")\n",
    "print(f\"Mean Accuracy Scores: {cross_validation.mean()}\")"
   ],
   "id": "65f2fdb7ebf2bee6",
   "outputs": [
    {
     "name": "stdout",
     "output_type": "stream",
     "text": [
      "Cross-Validation Accuracy Scores: [0.84210526 0.83458647 0.81954887 0.84848485 0.86363636 0.78787879\n",
      " 0.81060606 0.78787879 0.81060606 0.77272727]\n",
      "Mean Accuracy Scores: 0.8178058783321942\n"
     ]
    }
   ],
   "execution_count": 601
  },
  {
   "metadata": {
    "ExecuteTime": {
     "end_time": "2025-03-10T19:05:03.438078Z",
     "start_time": "2025-03-10T19:04:43.961281Z"
    }
   },
   "cell_type": "code",
   "source": [
    "cv_scores = k_fold.evaluate(random_forest_model)\n",
    "TrainingValidationPlot(cv_scores).visualize()"
   ],
   "id": "f958e3a9c131b510",
   "outputs": [
    {
     "data": {
      "text/plain": [
       "<Figure size 1400x500 with 2 Axes>"
      ],
      "image/png": "[encoded data removed]"
     },
     "metadata": {},
     "output_type": "display_data"
    }
   ],
   "execution_count": 602
  },
  {
   "metadata": {
    "ExecuteTime": {
     "end_time": "2025-03-10T19:05:09.428433Z",
     "start_time": "2025-03-10T19:05:09.159635Z"
    }
   },
   "cell_type": "code",
   "source": [
    "evaluate_printer=EvaluatePrinter(random_forest_model,X_train,y_train,X_test,y_test)\n",
    "evaluate_printer.print()"
   ],
   "id": "46b545929085abdc",
   "outputs": [
    {
     "name": "stdout",
     "output_type": "stream",
     "text": [
      "accuracy = 0.851963746223565\n",
      "precision = 0.8933333333333333\n",
      "recall = 0.8023952095808383\n",
      "f1 = 0.8454258675078864\n",
      "Compare Accuracy Evaluate:\n",
      "Train Accuracy == Test Accuracy\n",
      "Classification Report\n",
      "              precision    recall  f1-score   support\n",
      "\n",
      "           0       0.82      0.90      0.86       164\n",
      "           1       0.89      0.80      0.85       167\n",
      "\n",
      "    accuracy                           0.85       331\n",
      "   macro avg       0.86      0.85      0.85       331\n",
      "weighted avg       0.86      0.85      0.85       331\n",
      "\n"
     ]
    }
   ],
   "execution_count": 603
  },
  {
   "metadata": {
    "ExecuteTime": {
     "end_time": "2025-03-10T19:05:25.268655Z",
     "start_time": "2025-03-10T19:05:14.448260Z"
    }
   },
   "cell_type": "code",
   "source": [
    "logistic=LogisticRegressionTrain(X_train,y_train,{\"C\":10,\"penalty\":'l2',\"solver\":'liblinear',\n",
    "                                                        \"class_weight\":'balanced',\"random_state\":42,\"max_iter\":1000})\n",
    "logistic_model=logistic.train()\n",
    "\n",
    "cross_validation=cross_validation_evaluate_scale.evaluate(logistic_model)\n",
    "print(f\"Cross-Validation Accuracy Scores: {cross_validation}\")\n",
    "print(f\"Mean Accuracy Scores: {cross_validation.mean()}\")"
   ],
   "id": "3ecb3c57b5983e0d",
   "outputs": [
    {
     "name": "stdout",
     "output_type": "stream",
     "text": [
      "Cross-Validation Accuracy Scores: [0.89473684 0.88721805 0.86466165 0.86363636 0.84848485 0.82575758\n",
      " 0.84848485 0.87878788 0.84848485 0.81060606]\n",
      "Mean Accuracy Scores: 0.8570858965595807\n"
     ]
    }
   ],
   "execution_count": 604
  },
  {
   "metadata": {
    "ExecuteTime": {
     "end_time": "2025-03-10T19:05:33.308647Z",
     "start_time": "2025-03-10T19:05:29.075990Z"
    }
   },
   "cell_type": "code",
   "source": [
    "cv_scores = k_fold.evaluate(logistic_model)\n",
    "TrainingValidationPlot(cv_scores).visualize()"
   ],
   "id": "1dc98aef7faec64",
   "outputs": [
    {
     "data": {
      "text/plain": [
       "<Figure size 1400x500 with 2 Axes>"
      ],
      "image/png": "[encoded data removed]"
     },
     "metadata": {},
     "output_type": "display_data"
    }
   ],
   "execution_count": 605
  },
  {
   "metadata": {
    "ExecuteTime": {
     "end_time": "2025-03-10T19:05:38.915928Z",
     "start_time": "2025-03-10T19:05:38.735006Z"
    }
   },
   "cell_type": "code",
   "source": [
    "evaluate_printer=EvaluatePrinter(logistic_model,X_train,y_train,X_test,y_test)\n",
    "evaluate_printer.print()"
   ],
   "id": "ca0f3e52850ab05c",
   "outputs": [
    {
     "name": "stdout",
     "output_type": "stream",
     "text": [
      "accuracy = 0.8187311178247734\n",
      "precision = 0.8022598870056498\n",
      "recall = 0.8502994011976048\n",
      "f1 = 0.8255813953488372\n",
      "Compare Accuracy Evaluate:\n",
      "Train Accuracy == Test Accuracy\n",
      "Classification Report\n",
      "              precision    recall  f1-score   support\n",
      "\n",
      "           0       0.84      0.79      0.81       164\n",
      "           1       0.80      0.85      0.83       167\n",
      "\n",
      "    accuracy                           0.82       331\n",
      "   macro avg       0.82      0.82      0.82       331\n",
      "weighted avg       0.82      0.82      0.82       331\n",
      "\n"
     ]
    }
   ],
   "execution_count": 606
  }
 ],
 "metadata": {
  "kernelspec": {
   "display_name": "Python 3",
   "language": "python",
   "name": "python3"
  },
  "language_info": {
   "codemirror_mode": {
    "name": "ipython",
    "version": 2
   },
   "file_extension": ".py",
   "mimetype": "text/x-python",
   "name": "python",
   "nbconvert_exporter": "python",
   "pygments_lexer": "ipython2",
   "version": "2.7.6"
  }
 },
 "nbformat": 4,
 "nbformat_minor": 5
}
