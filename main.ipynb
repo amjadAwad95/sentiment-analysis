{
 "cells": [
  {
   "metadata": {
    "collapsed": true,
    "ExecuteTime": {
     "end_time": "2025-03-08T11:28:58.189382Z",
     "start_time": "2025-03-08T11:28:58.083836Z"
    }
   },
   "cell_type": "code",
   "source": [
    "import pandas as pd\n",
    "from glob import glob\n",
    "import random\n",
    "import Stemmer\n",
    "\n",
    "labels_file_name=[\"neg\",\"pos\"]\n",
    "data=[]\n",
    "test=[]\n",
    "for label in labels_file_name:\n",
    "    for filename in glob(f\"data/training_data/{label}/*.txt\"):\n",
    "        with open(filename, \"r\", encoding=\"utf-8\") as file:\n",
    "            text=file.read()\n",
    "            test.append(text)\n",
    "            data.append({\"text\":text,\"label\":label})\n",
    "\n",
    "random.shuffle(data)\n",
    "\n",
    "df = pd.DataFrame(data)\n",
    "stemmer = Stemmer.Stemmer('english')\n",
    "print(stemmer.stemWords(\"hello every body today i want playing a video game,,,()\"))"
   ],
   "id": "initial_id",
   "outputs": [
    {
     "name": "stdout",
     "output_type": "stream",
     "text": [
      "['h', 'e', 'l', 'l', 'o', ' ', 'e', 'v', 'e', 'r', 'y', ' ', 'b', 'o', 'd', 'y', ' ', 't', 'o', 'd', 'a', 'y', ' ', 'i', ' ', 'w', 'a', 'n', 't', ' ', 'p', 'l', 'a', 'y', 'i', 'n', 'g', ' ', 'a', ' ', 'v', 'i', 'd', 'e', 'o', ' ', 'g', 'a', 'm', 'e', ',', ',', ',', '(', ')']\n"
     ]
    }
   ],
   "execution_count": 2
  }
 ],
 "metadata": {
  "kernelspec": {
   "display_name": "Python 3",
   "language": "python",
   "name": "python3"
  },
  "language_info": {
   "codemirror_mode": {
    "name": "ipython",
    "version": 2
   },
   "file_extension": ".py",
   "mimetype": "text/x-python",
   "name": "python",
   "nbconvert_exporter": "python",
   "pygments_lexer": "ipython2",
   "version": "2.7.6"
  }
 },
 "nbformat": 4,
 "nbformat_minor": 5
}
