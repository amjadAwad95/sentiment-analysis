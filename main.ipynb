{
 "cells": [
  {
   "metadata": {
    "collapsed": true,
    "ExecuteTime": {
     "end_time": "2025-03-08T14:22:39.574444Z",
     "start_time": "2025-03-08T14:22:39.570441Z"
    }
   },
   "cell_type": "code",
   "source": [
    "import pandas as pd\n",
    "from glob import glob\n",
    "import random\n",
    "import Stemmer\n",
    "import emoji\n",
    "import re\n",
    "from abc import ABC, abstractmethod\n",
    "from num2words import num2words"
   ],
   "id": "initial_id",
   "outputs": [],
   "execution_count": 4
  },
  {
   "metadata": {},
   "cell_type": "markdown",
   "source": "# Create Preprocessing Classes",
   "id": "7fa7d13e891dcba1"
  },
  {
   "metadata": {
    "ExecuteTime": {
     "end_time": "2025-03-08T14:22:43.127678Z",
     "start_time": "2025-03-08T14:22:43.123894Z"
    }
   },
   "cell_type": "code",
   "source": [
    "class Preprocessing(ABC):\n",
    "    @abstractmethod\n",
    "    def fit(self,text:str)->str:\n",
    "        pass"
   ],
   "id": "adca4d6675d71963",
   "outputs": [],
   "execution_count": 5
  },
  {
   "metadata": {
    "ExecuteTime": {
     "end_time": "2025-03-08T14:26:53.596304Z",
     "start_time": "2025-03-08T14:26:53.591294Z"
    }
   },
   "cell_type": "code",
   "source": [
    "class RemoveSpecialCharacters(Preprocessing):\n",
    "    def fit(self,text:str)->str:\n",
    "        text=text.lower()\n",
    "        process_text = re.sub(r\"[^a-zA-Z0-9'\\s]\", '', text)\n",
    "        process_text = re.sub(r\"\\s+\", \" \", process_text)\n",
    "        return process_text\n",
    "\n",
    "class ConvertEmoji(Preprocessing):    \n",
    "    def fit(self,text:str)->str:\n",
    "        text=text.lower()\n",
    "        converted_text = emoji.demojize(text)\n",
    "        return converted_text\n",
    "\n",
    "class TextStemmer(Preprocessing):\n",
    "    def fit(self,text:str)->str:\n",
    "        text=text.lower()\n",
    "        tokens=text.split()\n",
    "        stemmer=Stemmer.Stemmer(\"english\")\n",
    "        tokens=[stemmer.stemWord(token) for token in tokens]\n",
    "        return ' '.join(tokens)\n",
    "    \n",
    "class ConvertNumberToWords(Preprocessing):\n",
    "    def fit(self,text:str)->str:\n",
    "        def replace_match(match):\n",
    "            return num2words(int(match.group(0)), to='ordinal')\n",
    "        return re.sub(r'-?\\d+',replace_match,text)\n",
    "        \n"
   ],
   "id": "f390cd9db0d4c34e",
   "outputs": [],
   "execution_count": 20
  },
  {
   "metadata": {
    "ExecuteTime": {
     "end_time": "2025-03-08T14:27:13.825616Z",
     "start_time": "2025-03-08T14:27:13.820586Z"
    }
   },
   "cell_type": "code",
   "source": [
    "string=\"100 I love this product! 😍 It's absolutely amazing. But the delivery was slow... 😠\"\n",
    "string=TextStemmer().fit(string)\n",
    "string=ConvertEmoji().fit(string)\n",
    "string=RemoveSpecialCharacters().fit(string)\n",
    "string=ConvertNumberToWords().fit(string)\n",
    "\n",
    "string"
   ],
   "id": "2b056363a2fc80e",
   "outputs": [
    {
     "data": {
      "text/plain": [
       "'one hundredth i love this product smilingfacewithhearteyes it absolut amazing but the deliveri was slow angryface'"
      ]
     },
     "execution_count": 23,
     "metadata": {},
     "output_type": "execute_result"
    }
   ],
   "execution_count": 23
  },
  {
   "metadata": {
    "ExecuteTime": {
     "end_time": "2025-03-08T12:32:52.306839Z",
     "start_time": "2025-03-08T12:32:52.192093Z"
    }
   },
   "cell_type": "code",
   "source": [
    "labels_file_name=[\"neg\",\"pos\"]\n",
    "data=[]\n",
    "test=[]\n",
    "for label in labels_file_name:\n",
    "    for filename in glob(f\"data/training_data/{label}/*.txt\"):\n",
    "        with open(filename, \"r\", encoding=\"utf-8\") as file:\n",
    "            text=file.read()\n",
    "            test.append(text)\n",
    "            data.append({\"text\":text,\"label\":label})\n",
    "\n",
    "random.shuffle(data)\n",
    "df = pd.DataFrame(data)\n",
    "\n",
    "string=\"hello every body today i want playing 😂😂 a video game,,,()\"\n",
    "emoji.demojize(string)"
   ],
   "id": "824ae0dbe4eab017",
   "outputs": [
    {
     "data": {
      "text/plain": [
       "'hello every body today i want playing :face_with_tears_of_joy::face_with_tears_of_joy: a video game,,,()'"
      ]
     },
     "execution_count": 4,
     "metadata": {},
     "output_type": "execute_result"
    }
   ],
   "execution_count": 4
  }
 ],
 "metadata": {
  "kernelspec": {
   "display_name": "Python 3",
   "language": "python",
   "name": "python3"
  },
  "language_info": {
   "codemirror_mode": {
    "name": "ipython",
    "version": 2
   },
   "file_extension": ".py",
   "mimetype": "text/x-python",
   "name": "python",
   "nbconvert_exporter": "python",
   "pygments_lexer": "ipython2",
   "version": "2.7.6"
  }
 },
 "nbformat": 4,
 "nbformat_minor": 5
}
